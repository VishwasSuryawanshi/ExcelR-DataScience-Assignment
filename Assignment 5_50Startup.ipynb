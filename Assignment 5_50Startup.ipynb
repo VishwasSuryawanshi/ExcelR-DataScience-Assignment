{
 "cells": [
  {
   "cell_type": "markdown",
   "id": "980829a1",
   "metadata": {},
   "source": [
    "## Prepare a prediction model for profit of 50_startups data.Do transformations for getting better predictions of profit and make a table containing R^2 value for each prepared model.\n",
    "### R&D Spend -- Research and devolop spend in the past few years\n",
    "### Administration -- spend on administration in the past few years\n",
    "### Marketing Spend -- spend on Marketing in the past few years\n",
    "### State -- states from which data is collected\n",
    "### Profit  -- profit of each state in the past few years"
   ]
  },
  {
   "cell_type": "code",
   "execution_count": 3,
   "id": "ce7cad38",
   "metadata": {
    "ExecuteTime": {
     "end_time": "2021-10-20T08:25:20.823336Z",
     "start_time": "2021-10-20T08:25:20.685661Z"
    }
   },
   "outputs": [],
   "source": [
    "import pandas as pd\n",
    "import numpy as np\n",
    "import matplotlib.pyplot as plt\n",
    "import seaborn as sns\n",
    "from statsmodels.graphics.regressionplots import influence_plot"
   ]
  },
  {
   "cell_type": "code",
   "execution_count": 5,
   "id": "6e9de1e9",
   "metadata": {
    "ExecuteTime": {
     "end_time": "2021-10-20T08:26:34.602615Z",
     "start_time": "2021-10-20T08:26:34.562024Z"
    }
   },
   "outputs": [
    {
     "data": {
      "text/html": [
       "<div>\n",
       "<style scoped>\n",
       "    .dataframe tbody tr th:only-of-type {\n",
       "        vertical-align: middle;\n",
       "    }\n",
       "\n",
       "    .dataframe tbody tr th {\n",
       "        vertical-align: top;\n",
       "    }\n",
       "\n",
       "    .dataframe thead th {\n",
       "        text-align: right;\n",
       "    }\n",
       "</style>\n",
       "<table border=\"1\" class=\"dataframe\">\n",
       "  <thead>\n",
       "    <tr style=\"text-align: right;\">\n",
       "      <th></th>\n",
       "      <th>R&amp;D Spend</th>\n",
       "      <th>Administration</th>\n",
       "      <th>Marketing Spend</th>\n",
       "      <th>State</th>\n",
       "      <th>Profit</th>\n",
       "    </tr>\n",
       "  </thead>\n",
       "  <tbody>\n",
       "    <tr>\n",
       "      <th>0</th>\n",
       "      <td>165349.20</td>\n",
       "      <td>136897.80</td>\n",
       "      <td>471784.10</td>\n",
       "      <td>New York</td>\n",
       "      <td>192261.83</td>\n",
       "    </tr>\n",
       "    <tr>\n",
       "      <th>1</th>\n",
       "      <td>162597.70</td>\n",
       "      <td>151377.59</td>\n",
       "      <td>443898.53</td>\n",
       "      <td>California</td>\n",
       "      <td>191792.06</td>\n",
       "    </tr>\n",
       "    <tr>\n",
       "      <th>2</th>\n",
       "      <td>153441.51</td>\n",
       "      <td>101145.55</td>\n",
       "      <td>407934.54</td>\n",
       "      <td>Florida</td>\n",
       "      <td>191050.39</td>\n",
       "    </tr>\n",
       "    <tr>\n",
       "      <th>3</th>\n",
       "      <td>144372.41</td>\n",
       "      <td>118671.85</td>\n",
       "      <td>383199.62</td>\n",
       "      <td>New York</td>\n",
       "      <td>182901.99</td>\n",
       "    </tr>\n",
       "    <tr>\n",
       "      <th>4</th>\n",
       "      <td>142107.34</td>\n",
       "      <td>91391.77</td>\n",
       "      <td>366168.42</td>\n",
       "      <td>Florida</td>\n",
       "      <td>166187.94</td>\n",
       "    </tr>\n",
       "  </tbody>\n",
       "</table>\n",
       "</div>"
      ],
      "text/plain": [
       "   R&D Spend  Administration  Marketing Spend       State     Profit\n",
       "0  165349.20       136897.80        471784.10    New York  192261.83\n",
       "1  162597.70       151377.59        443898.53  California  191792.06\n",
       "2  153441.51       101145.55        407934.54     Florida  191050.39\n",
       "3  144372.41       118671.85        383199.62    New York  182901.99\n",
       "4  142107.34        91391.77        366168.42     Florida  166187.94"
      ]
     },
     "execution_count": 5,
     "metadata": {},
     "output_type": "execute_result"
    }
   ],
   "source": [
    "data = pd.read_csv(\"C:\\\\Users\\\\Lenovo\\\\Desktop\\\\ExcelR\\\\Data Science Assignments\\\\5_Multi Linear Regression\\\\50_Startups.csv\")\n",
    "data.head()"
   ]
  },
  {
   "cell_type": "code",
   "execution_count": 31,
   "id": "03329815",
   "metadata": {
    "ExecuteTime": {
     "end_time": "2021-10-20T08:40:49.154829Z",
     "start_time": "2021-10-20T08:40:49.129087Z"
    }
   },
   "outputs": [
    {
     "data": {
      "text/html": [
       "<div>\n",
       "<style scoped>\n",
       "    .dataframe tbody tr th:only-of-type {\n",
       "        vertical-align: middle;\n",
       "    }\n",
       "\n",
       "    .dataframe tbody tr th {\n",
       "        vertical-align: top;\n",
       "    }\n",
       "\n",
       "    .dataframe thead th {\n",
       "        text-align: right;\n",
       "    }\n",
       "</style>\n",
       "<table border=\"1\" class=\"dataframe\">\n",
       "  <thead>\n",
       "    <tr style=\"text-align: right;\">\n",
       "      <th></th>\n",
       "      <th>RandD</th>\n",
       "      <th>Admin</th>\n",
       "      <th>Marketing</th>\n",
       "      <th>State</th>\n",
       "      <th>Profit</th>\n",
       "    </tr>\n",
       "  </thead>\n",
       "  <tbody>\n",
       "    <tr>\n",
       "      <th>0</th>\n",
       "      <td>165349.20</td>\n",
       "      <td>136897.80</td>\n",
       "      <td>471784.10</td>\n",
       "      <td>New York</td>\n",
       "      <td>192261.83</td>\n",
       "    </tr>\n",
       "    <tr>\n",
       "      <th>1</th>\n",
       "      <td>162597.70</td>\n",
       "      <td>151377.59</td>\n",
       "      <td>443898.53</td>\n",
       "      <td>California</td>\n",
       "      <td>191792.06</td>\n",
       "    </tr>\n",
       "    <tr>\n",
       "      <th>2</th>\n",
       "      <td>153441.51</td>\n",
       "      <td>101145.55</td>\n",
       "      <td>407934.54</td>\n",
       "      <td>Florida</td>\n",
       "      <td>191050.39</td>\n",
       "    </tr>\n",
       "    <tr>\n",
       "      <th>3</th>\n",
       "      <td>144372.41</td>\n",
       "      <td>118671.85</td>\n",
       "      <td>383199.62</td>\n",
       "      <td>New York</td>\n",
       "      <td>182901.99</td>\n",
       "    </tr>\n",
       "    <tr>\n",
       "      <th>4</th>\n",
       "      <td>142107.34</td>\n",
       "      <td>91391.77</td>\n",
       "      <td>366168.42</td>\n",
       "      <td>Florida</td>\n",
       "      <td>166187.94</td>\n",
       "    </tr>\n",
       "  </tbody>\n",
       "</table>\n",
       "</div>"
      ],
      "text/plain": [
       "       RandD      Admin  Marketing       State     Profit\n",
       "0  165349.20  136897.80  471784.10    New York  192261.83\n",
       "1  162597.70  151377.59  443898.53  California  191792.06\n",
       "2  153441.51  101145.55  407934.54     Florida  191050.39\n",
       "3  144372.41  118671.85  383199.62    New York  182901.99\n",
       "4  142107.34   91391.77  366168.42     Florida  166187.94"
      ]
     },
     "execution_count": 31,
     "metadata": {},
     "output_type": "execute_result"
    }
   ],
   "source": [
    "data.columns=[\"RandD\",\"Admin\",\"Marketing\",\"State\",\"Profit\"]\n",
    "data.head()"
   ]
  },
  {
   "cell_type": "code",
   "execution_count": 27,
   "id": "725e9eb7",
   "metadata": {
    "ExecuteTime": {
     "end_time": "2021-10-20T08:39:27.486543Z",
     "start_time": "2021-10-20T08:39:27.460412Z"
    }
   },
   "outputs": [
    {
     "name": "stdout",
     "output_type": "stream",
     "text": [
      "<class 'pandas.core.frame.DataFrame'>\n",
      "RangeIndex: 50 entries, 0 to 49\n",
      "Data columns (total 5 columns):\n",
      " #   Column     Non-Null Count  Dtype  \n",
      "---  ------     --------------  -----  \n",
      " 0   R&D        50 non-null     float64\n",
      " 1   Admin      50 non-null     float64\n",
      " 2   Marketing  50 non-null     float64\n",
      " 3   State      50 non-null     object \n",
      " 4   Profit     50 non-null     float64\n",
      "dtypes: float64(4), object(1)\n",
      "memory usage: 2.1+ KB\n"
     ]
    }
   ],
   "source": [
    "data.info()"
   ]
  },
  {
   "cell_type": "code",
   "execution_count": 10,
   "id": "46bdf329",
   "metadata": {
    "ExecuteTime": {
     "end_time": "2021-10-20T08:28:13.000986Z",
     "start_time": "2021-10-20T08:28:12.973857Z"
    }
   },
   "outputs": [
    {
     "data": {
      "text/plain": [
       "R&D Spend          0\n",
       "Administration     0\n",
       "Marketing Spend    0\n",
       "State              0\n",
       "Profit             0\n",
       "dtype: int64"
      ]
     },
     "execution_count": 10,
     "metadata": {},
     "output_type": "execute_result"
    }
   ],
   "source": [
    "data.isna().sum()"
   ]
  },
  {
   "cell_type": "code",
   "execution_count": 20,
   "id": "ce6a9b09",
   "metadata": {
    "ExecuteTime": {
     "end_time": "2021-10-20T08:33:26.168212Z",
     "start_time": "2021-10-20T08:33:26.144918Z"
    }
   },
   "outputs": [
    {
     "data": {
      "text/plain": [
       "0"
      ]
     },
     "execution_count": 20,
     "metadata": {},
     "output_type": "execute_result"
    }
   ],
   "source": [
    "data.duplicated().sum()"
   ]
  },
  {
   "cell_type": "code",
   "execution_count": 32,
   "id": "e6c693be",
   "metadata": {
    "ExecuteTime": {
     "end_time": "2021-10-20T08:40:54.375259Z",
     "start_time": "2021-10-20T08:40:54.344604Z"
    }
   },
   "outputs": [
    {
     "data": {
      "text/html": [
       "<div>\n",
       "<style scoped>\n",
       "    .dataframe tbody tr th:only-of-type {\n",
       "        vertical-align: middle;\n",
       "    }\n",
       "\n",
       "    .dataframe tbody tr th {\n",
       "        vertical-align: top;\n",
       "    }\n",
       "\n",
       "    .dataframe thead th {\n",
       "        text-align: right;\n",
       "    }\n",
       "</style>\n",
       "<table border=\"1\" class=\"dataframe\">\n",
       "  <thead>\n",
       "    <tr style=\"text-align: right;\">\n",
       "      <th></th>\n",
       "      <th>RandD</th>\n",
       "      <th>Admin</th>\n",
       "      <th>Marketing</th>\n",
       "      <th>Profit</th>\n",
       "    </tr>\n",
       "  </thead>\n",
       "  <tbody>\n",
       "    <tr>\n",
       "      <th>RandD</th>\n",
       "      <td>1.000000</td>\n",
       "      <td>0.241955</td>\n",
       "      <td>0.724248</td>\n",
       "      <td>0.972900</td>\n",
       "    </tr>\n",
       "    <tr>\n",
       "      <th>Admin</th>\n",
       "      <td>0.241955</td>\n",
       "      <td>1.000000</td>\n",
       "      <td>-0.032154</td>\n",
       "      <td>0.200717</td>\n",
       "    </tr>\n",
       "    <tr>\n",
       "      <th>Marketing</th>\n",
       "      <td>0.724248</td>\n",
       "      <td>-0.032154</td>\n",
       "      <td>1.000000</td>\n",
       "      <td>0.747766</td>\n",
       "    </tr>\n",
       "    <tr>\n",
       "      <th>Profit</th>\n",
       "      <td>0.972900</td>\n",
       "      <td>0.200717</td>\n",
       "      <td>0.747766</td>\n",
       "      <td>1.000000</td>\n",
       "    </tr>\n",
       "  </tbody>\n",
       "</table>\n",
       "</div>"
      ],
      "text/plain": [
       "              RandD     Admin  Marketing    Profit\n",
       "RandD      1.000000  0.241955   0.724248  0.972900\n",
       "Admin      0.241955  1.000000  -0.032154  0.200717\n",
       "Marketing  0.724248 -0.032154   1.000000  0.747766\n",
       "Profit     0.972900  0.200717   0.747766  1.000000"
      ]
     },
     "execution_count": 32,
     "metadata": {},
     "output_type": "execute_result"
    }
   ],
   "source": [
    "# Correlation Matrix --------\n",
    "data.corr()"
   ]
  },
  {
   "cell_type": "code",
   "execution_count": 33,
   "id": "e1ddbeae",
   "metadata": {
    "ExecuteTime": {
     "end_time": "2021-10-20T08:41:04.654786Z",
     "start_time": "2021-10-20T08:40:58.009539Z"
    }
   },
   "outputs": [
    {
     "data": {
      "text/plain": [
       "<seaborn.axisgrid.PairGrid at 0x1e4c108aac0>"
      ]
     },
     "execution_count": 33,
     "metadata": {},
     "output_type": "execute_result"
    },
    {
     "data": {
      "image/png": "[encoded data removed]",
      "text/plain": [
       "<Figure size 720x720 with 20 Axes>"
      ]
     },
     "metadata": {},
     "output_type": "display_data"
    }
   ],
   "source": [
    "# Scatterplot -------\n",
    "sns.set_style(style=\"darkgrid\")\n",
    "sns.pairplot(data)"
   ]
  },
  {
   "cell_type": "code",
   "execution_count": 34,
   "id": "bd0bb318",
   "metadata": {
    "ExecuteTime": {
     "end_time": "2021-10-20T08:41:11.255653Z",
     "start_time": "2021-10-20T08:41:11.230619Z"
    }
   },
   "outputs": [],
   "source": [
    "# Building a Model\n",
    "\n",
    "import statsmodels.formula.api as smf\n",
    "model = smf.ols('Profit~RandD+Admin+Marketing', data=data).fit()"
   ]
  },
  {
   "cell_type": "code",
   "execution_count": 36,
   "id": "9ef525f2",
   "metadata": {
    "ExecuteTime": {
     "end_time": "2021-10-20T08:41:35.759758Z",
     "start_time": "2021-10-20T08:41:35.748437Z"
    }
   },
   "outputs": [
    {
     "data": {
      "text/plain": [
       "Intercept    50122.192990\n",
       "RandD            0.805715\n",
       "Admin           -0.026816\n",
       "Marketing        0.027228\n",
       "dtype: float64"
      ]
     },
     "execution_count": 36,
     "metadata": {},
     "output_type": "execute_result"
    }
   ],
   "source": [
    "model.params"
   ]
  },
  {
   "cell_type": "code",
   "execution_count": 37,
   "id": "eb81743e",
   "metadata": {
    "ExecuteTime": {
     "end_time": "2021-10-20T08:42:17.452305Z",
     "start_time": "2021-10-20T08:42:17.405368Z"
    }
   },
   "outputs": [
    {
     "data": {
      "text/html": [
       "<table class=\"simpletable\">\n",
       "<caption>OLS Regression Results</caption>\n",
       "<tr>\n",
       "  <th>Dep. Variable:</th>         <td>Profit</td>      <th>  R-squared:         </th> <td>   0.951</td>\n",
       "</tr>\n",
       "<tr>\n",
       "  <th>Model:</th>                   <td>OLS</td>       <th>  Adj. R-squared:    </th> <td>   0.948</td>\n",
       "</tr>\n",
       "<tr>\n",
       "  <th>Method:</th>             <td>Least Squares</td>  <th>  F-statistic:       </th> <td>   296.0</td>\n",
       "</tr>\n",
       "<tr>\n",
       "  <th>Date:</th>             <td>Wed, 20 Oct 2021</td> <th>  Prob (F-statistic):</th> <td>4.53e-30</td>\n",
       "</tr>\n",
       "<tr>\n",
       "  <th>Time:</th>                 <td>14:12:17</td>     <th>  Log-Likelihood:    </th> <td> -525.39</td>\n",
       "</tr>\n",
       "<tr>\n",
       "  <th>No. Observations:</th>      <td>    50</td>      <th>  AIC:               </th> <td>   1059.</td>\n",
       "</tr>\n",
       "<tr>\n",
       "  <th>Df Residuals:</th>          <td>    46</td>      <th>  BIC:               </th> <td>   1066.</td>\n",
       "</tr>\n",
       "<tr>\n",
       "  <th>Df Model:</th>              <td>     3</td>      <th>                     </th>     <td> </td>   \n",
       "</tr>\n",
       "<tr>\n",
       "  <th>Covariance Type:</th>      <td>nonrobust</td>    <th>                     </th>     <td> </td>   \n",
       "</tr>\n",
       "</table>\n",
       "<table class=\"simpletable\">\n",
       "<tr>\n",
       "      <td></td>         <th>coef</th>     <th>std err</th>      <th>t</th>      <th>P>|t|</th>  <th>[0.025</th>    <th>0.975]</th>  \n",
       "</tr>\n",
       "<tr>\n",
       "  <th>Intercept</th> <td> 5.012e+04</td> <td> 6572.353</td> <td>    7.626</td> <td> 0.000</td> <td> 3.69e+04</td> <td> 6.34e+04</td>\n",
       "</tr>\n",
       "<tr>\n",
       "  <th>RandD</th>     <td>    0.8057</td> <td>    0.045</td> <td>   17.846</td> <td> 0.000</td> <td>    0.715</td> <td>    0.897</td>\n",
       "</tr>\n",
       "<tr>\n",
       "  <th>Admin</th>     <td>   -0.0268</td> <td>    0.051</td> <td>   -0.526</td> <td> 0.602</td> <td>   -0.130</td> <td>    0.076</td>\n",
       "</tr>\n",
       "<tr>\n",
       "  <th>Marketing</th> <td>    0.0272</td> <td>    0.016</td> <td>    1.655</td> <td> 0.105</td> <td>   -0.006</td> <td>    0.060</td>\n",
       "</tr>\n",
       "</table>\n",
       "<table class=\"simpletable\">\n",
       "<tr>\n",
       "  <th>Omnibus:</th>       <td>14.838</td> <th>  Durbin-Watson:     </th> <td>   1.282</td>\n",
       "</tr>\n",
       "<tr>\n",
       "  <th>Prob(Omnibus):</th> <td> 0.001</td> <th>  Jarque-Bera (JB):  </th> <td>  21.442</td>\n",
       "</tr>\n",
       "<tr>\n",
       "  <th>Skew:</th>          <td>-0.949</td> <th>  Prob(JB):          </th> <td>2.21e-05</td>\n",
       "</tr>\n",
       "<tr>\n",
       "  <th>Kurtosis:</th>      <td> 5.586</td> <th>  Cond. No.          </th> <td>1.40e+06</td>\n",
       "</tr>\n",
       "</table><br/><br/>Notes:<br/>[1] Standard Errors assume that the covariance matrix of the errors is correctly specified.<br/>[2] The condition number is large, 1.4e+06. This might indicate that there are<br/>strong multicollinearity or other numerical problems."
      ],
      "text/plain": [
       "<class 'statsmodels.iolib.summary.Summary'>\n",
       "\"\"\"\n",
       "                            OLS Regression Results                            \n",
       "==============================================================================\n",
       "Dep. Variable:                 Profit   R-squared:                       0.951\n",
       "Model:                            OLS   Adj. R-squared:                  0.948\n",
       "Method:                 Least Squares   F-statistic:                     296.0\n",
       "Date:                Wed, 20 Oct 2021   Prob (F-statistic):           4.53e-30\n",
       "Time:                        14:12:17   Log-Likelihood:                -525.39\n",
       "No. Observations:                  50   AIC:                             1059.\n",
       "Df Residuals:                      46   BIC:                             1066.\n",
       "Df Model:                           3                                         \n",
       "Covariance Type:            nonrobust                                         \n",
       "==============================================================================\n",
       "                 coef    std err          t      P>|t|      [0.025      0.975]\n",
       "------------------------------------------------------------------------------\n",
       "Intercept   5.012e+04   6572.353      7.626      0.000    3.69e+04    6.34e+04\n",
       "RandD          0.8057      0.045     17.846      0.000       0.715       0.897\n",
       "Admin         -0.0268      0.051     -0.526      0.602      -0.130       0.076\n",
       "Marketing      0.0272      0.016      1.655      0.105      -0.006       0.060\n",
       "==============================================================================\n",
       "Omnibus:                       14.838   Durbin-Watson:                   1.282\n",
       "Prob(Omnibus):                  0.001   Jarque-Bera (JB):               21.442\n",
       "Skew:                          -0.949   Prob(JB):                     2.21e-05\n",
       "Kurtosis:                       5.586   Cond. No.                     1.40e+06\n",
       "==============================================================================\n",
       "\n",
       "Notes:\n",
       "[1] Standard Errors assume that the covariance matrix of the errors is correctly specified.\n",
       "[2] The condition number is large, 1.4e+06. This might indicate that there are\n",
       "strong multicollinearity or other numerical problems.\n",
       "\"\"\""
      ]
     },
     "execution_count": 37,
     "metadata": {},
     "output_type": "execute_result"
    }
   ],
   "source": [
    "model.summary()"
   ]
  },
  {
   "cell_type": "code",
   "execution_count": 42,
   "id": "dbab034b",
   "metadata": {
    "ExecuteTime": {
     "end_time": "2021-10-20T09:06:58.172519Z",
     "start_time": "2021-10-20T09:06:58.117689Z"
    }
   },
   "outputs": [
    {
     "data": {
      "text/html": [
       "<div>\n",
       "<style scoped>\n",
       "    .dataframe tbody tr th:only-of-type {\n",
       "        vertical-align: middle;\n",
       "    }\n",
       "\n",
       "    .dataframe tbody tr th {\n",
       "        vertical-align: top;\n",
       "    }\n",
       "\n",
       "    .dataframe thead th {\n",
       "        text-align: right;\n",
       "    }\n",
       "</style>\n",
       "<table border=\"1\" class=\"dataframe\">\n",
       "  <thead>\n",
       "    <tr style=\"text-align: right;\">\n",
       "      <th></th>\n",
       "      <th>Features</th>\n",
       "      <th>VIF</th>\n",
       "    </tr>\n",
       "  </thead>\n",
       "  <tbody>\n",
       "    <tr>\n",
       "      <th>0</th>\n",
       "      <td>RandD</td>\n",
       "      <td>2.468903</td>\n",
       "    </tr>\n",
       "    <tr>\n",
       "      <th>1</th>\n",
       "      <td>Admin</td>\n",
       "      <td>1.175091</td>\n",
       "    </tr>\n",
       "    <tr>\n",
       "      <th>2</th>\n",
       "      <td>Marketing</td>\n",
       "      <td>2.326773</td>\n",
       "    </tr>\n",
       "  </tbody>\n",
       "</table>\n",
       "</div>"
      ],
      "text/plain": [
       "    Features       VIF\n",
       "0      RandD  2.468903\n",
       "1      Admin  1.175091\n",
       "2  Marketing  2.326773"
      ]
     },
     "execution_count": 42,
     "metadata": {},
     "output_type": "execute_result"
    }
   ],
   "source": [
    "# Checking for Multi-collinearity by VIF\n",
    "\n",
    "rsquared_RandD = smf.ols(\"RandD~Admin+Marketing\",data=data).fit().rsquared\n",
    "VIF_RandD = 1/(1-rsquared_RandD)\n",
    "\n",
    "rsquared_Admin = smf.ols(\"Admin~RandD+Marketing\",data=data).fit().rsquared\n",
    "VIF_Admin = 1/(1-rsquared_Admin)\n",
    "\n",
    "rsquared_Marketing = smf.ols(\"Marketing~RandD+Admin\",data=data).fit().rsquared\n",
    "VIF_Marketing = 1/(1-rsquared_Marketing)\n",
    "\n",
    "VIF = {\"Features\":[\"RandD\",\"Admin\",\"Marketing\"], \"VIF\":[VIF_RandD,VIF_Admin,VIF_Marketing]}\n",
    "VIF_frame = pd.DataFrame(VIF)\n",
    "VIF_frame"
   ]
  },
  {
   "cell_type": "code",
   "execution_count": 51,
   "id": "4a733990",
   "metadata": {
    "ExecuteTime": {
     "end_time": "2021-10-20T09:12:54.782410Z",
     "start_time": "2021-10-20T09:12:54.318910Z"
    }
   },
   "outputs": [
    {
     "data": {
      "image/png": "[encoded data removed]",
      "text/plain": [
       "<Figure size 432x288 with 1 Axes>"
      ]
     },
     "metadata": {},
     "output_type": "display_data"
    }
   ],
   "source": [
    "# Residual Analysis\n",
    "\n",
    "import statsmodels.api as sm\n",
    "qqplot = sm.qqplot(model.resid,line=\"q\")\n",
    "plt.show()"
   ]
  },
  {
   "cell_type": "code",
   "execution_count": 54,
   "id": "5cec6db4",
   "metadata": {
    "ExecuteTime": {
     "end_time": "2021-10-20T09:15:42.531720Z",
     "start_time": "2021-10-20T09:15:42.508937Z"
    }
   },
   "outputs": [
    {
     "data": {
      "text/plain": [
       "[array([49], dtype=int64)]"
      ]
     },
     "execution_count": 54,
     "metadata": {},
     "output_type": "execute_result"
    }
   ],
   "source": [
    "list(np.where(model.resid<-30000))"
   ]
  },
  {
   "cell_type": "code",
   "execution_count": 61,
   "id": "9a5e46ec",
   "metadata": {
    "ExecuteTime": {
     "end_time": "2021-10-20T09:56:51.614173Z",
     "start_time": "2021-10-20T09:56:51.500150Z"
    }
   },
   "outputs": [],
   "source": [
    "# Cook's Distance\n",
    "\n",
    "model_influence = model.get_influence()\n",
    "c,standard_distance = model_influence.cooks_distance"
   ]
  },
  {
   "cell_type": "code",
   "execution_count": 66,
   "id": "5503838c",
   "metadata": {
    "ExecuteTime": {
     "end_time": "2021-10-20T10:00:21.557396Z",
     "start_time": "2021-10-20T10:00:21.358431Z"
    }
   },
   "outputs": [
    {
     "data": {
      "image/png": "[encoded data removed]",
      "text/plain": [
       "<Figure size 1440x504 with 1 Axes>"
      ]
     },
     "metadata": {},
     "output_type": "display_data"
    }
   ],
   "source": [
    "fig = plt.subplots(figsize=(20,7))\n",
    "plt.stem(np.arange(len(data)),np.round(c,3))\n",
    "plt.xlabel(\"Row Index\")\n",
    "plt.ylabel(\"Cooks Distance\")\n",
    "plt.show()"
   ]
  },
  {
   "cell_type": "code",
   "execution_count": 67,
   "id": "8b1b2944",
   "metadata": {
    "ExecuteTime": {
     "end_time": "2021-10-20T10:01:23.555942Z",
     "start_time": "2021-10-20T10:01:23.533996Z"
    }
   },
   "outputs": [
    {
     "data": {
      "text/plain": [
       "(49, 0.28808229275432634)"
      ]
     },
     "execution_count": 67,
     "metadata": {},
     "output_type": "execute_result"
    }
   ],
   "source": [
    "np.argmax(c),np.max(c)"
   ]
  },
  {
   "cell_type": "code",
   "execution_count": 69,
   "id": "90ddf622",
   "metadata": {
    "ExecuteTime": {
     "end_time": "2021-10-20T10:02:50.142075Z",
     "start_time": "2021-10-20T10:02:49.904601Z"
    }
   },
   "outputs": [
    {
     "data": {
      "image/png": "[encoded data removed]",
      "text/plain": [
       "<Figure size 432x288 with 1 Axes>"
      ]
     },
     "metadata": {},
     "output_type": "display_data"
    }
   ],
   "source": [
    "influence_plot(model)\n",
    "plt.show()"
   ]
  },
  {
   "cell_type": "code",
   "execution_count": 70,
   "id": "f5d2a308",
   "metadata": {
    "ExecuteTime": {
     "end_time": "2021-10-20T10:05:44.960766Z",
     "start_time": "2021-10-20T10:05:44.948798Z"
    }
   },
   "outputs": [
    {
     "data": {
      "text/plain": [
       "0.36"
      ]
     },
     "execution_count": 70,
     "metadata": {},
     "output_type": "execute_result"
    }
   ],
   "source": [
    "k = data.shape[1]\n",
    "n = data.shape[0]\n",
    "leverage_cutoff = (3*(k+1))/n\n",
    "leverage_cutoff"
   ]
  },
  {
   "cell_type": "code",
   "execution_count": 72,
   "id": "5e1fd1f4",
   "metadata": {
    "ExecuteTime": {
     "end_time": "2021-10-20T10:07:56.357948Z",
     "start_time": "2021-10-20T10:07:56.331026Z"
    }
   },
   "outputs": [
    {
     "data": {
      "text/plain": [
       "0     192521.252890\n",
       "1     189156.768232\n",
       "2     182147.279096\n",
       "3     173696.700026\n",
       "4     172139.514183\n",
       "5     163580.780571\n",
       "6     158114.096669\n",
       "7     160021.363048\n",
       "8     151741.699699\n",
       "9     154884.684110\n",
       "10    135509.016367\n",
       "11    135573.712961\n",
       "12    129138.054182\n",
       "13    127487.991663\n",
       "14    149548.646335\n",
       "15    146235.159985\n",
       "16    116915.405401\n",
       "17    130192.447208\n",
       "18    129014.226806\n",
       "19    115635.216367\n",
       "20    116639.669231\n",
       "21    117319.451640\n",
       "22    114706.981717\n",
       "23    109996.615221\n",
       "24    113362.966113\n",
       "25    102237.725065\n",
       "26    110600.575350\n",
       "27    114408.071457\n",
       "28    101660.026005\n",
       "29    101794.983452\n",
       "30     99452.372936\n",
       "31     97687.856276\n",
       "32     99001.328985\n",
       "33     97915.007805\n",
       "34     89039.273741\n",
       "35     90511.599568\n",
       "36     75286.174585\n",
       "37     89619.537708\n",
       "38     69697.430648\n",
       "39     83729.011977\n",
       "40     74815.953991\n",
       "41     74802.556239\n",
       "42     70620.411821\n",
       "43     60167.039963\n",
       "44     64611.354916\n",
       "45     47650.649687\n",
       "46     56166.206853\n",
       "47     46490.588983\n",
       "48     49171.388158\n",
       "49     48215.134111\n",
       "dtype: float64"
      ]
     },
     "execution_count": 72,
     "metadata": {},
     "output_type": "execute_result"
    }
   ],
   "source": [
    "# Building Model\n",
    "\n",
    "model.predict(data)"
   ]
  },
  {
   "cell_type": "code",
   "execution_count": 77,
   "id": "c30869bf",
   "metadata": {
    "ExecuteTime": {
     "end_time": "2021-10-20T10:13:17.843970Z",
     "start_time": "2021-10-20T10:13:17.774949Z"
    }
   },
   "outputs": [
    {
     "data": {
      "text/html": [
       "<div>\n",
       "<style scoped>\n",
       "    .dataframe tbody tr th:only-of-type {\n",
       "        vertical-align: middle;\n",
       "    }\n",
       "\n",
       "    .dataframe tbody tr th {\n",
       "        vertical-align: top;\n",
       "    }\n",
       "\n",
       "    .dataframe thead th {\n",
       "        text-align: right;\n",
       "    }\n",
       "</style>\n",
       "<table border=\"1\" class=\"dataframe\">\n",
       "  <thead>\n",
       "    <tr style=\"text-align: right;\">\n",
       "      <th></th>\n",
       "      <th>RandD</th>\n",
       "      <th>Admin</th>\n",
       "      <th>Marketing</th>\n",
       "      <th>State</th>\n",
       "      <th>Profit</th>\n",
       "      <th>Predicted Values</th>\n",
       "      <th>Error Value</th>\n",
       "    </tr>\n",
       "  </thead>\n",
       "  <tbody>\n",
       "    <tr>\n",
       "      <th>0</th>\n",
       "      <td>165349.20</td>\n",
       "      <td>136897.80</td>\n",
       "      <td>471784.10</td>\n",
       "      <td>New York</td>\n",
       "      <td>192261.83</td>\n",
       "      <td>192521.25</td>\n",
       "      <td>-259.42</td>\n",
       "    </tr>\n",
       "    <tr>\n",
       "      <th>1</th>\n",
       "      <td>162597.70</td>\n",
       "      <td>151377.59</td>\n",
       "      <td>443898.53</td>\n",
       "      <td>California</td>\n",
       "      <td>191792.06</td>\n",
       "      <td>189156.77</td>\n",
       "      <td>2635.29</td>\n",
       "    </tr>\n",
       "    <tr>\n",
       "      <th>2</th>\n",
       "      <td>153441.51</td>\n",
       "      <td>101145.55</td>\n",
       "      <td>407934.54</td>\n",
       "      <td>Florida</td>\n",
       "      <td>191050.39</td>\n",
       "      <td>182147.28</td>\n",
       "      <td>8903.11</td>\n",
       "    </tr>\n",
       "    <tr>\n",
       "      <th>3</th>\n",
       "      <td>144372.41</td>\n",
       "      <td>118671.85</td>\n",
       "      <td>383199.62</td>\n",
       "      <td>New York</td>\n",
       "      <td>182901.99</td>\n",
       "      <td>173696.70</td>\n",
       "      <td>9205.29</td>\n",
       "    </tr>\n",
       "    <tr>\n",
       "      <th>4</th>\n",
       "      <td>142107.34</td>\n",
       "      <td>91391.77</td>\n",
       "      <td>366168.42</td>\n",
       "      <td>Florida</td>\n",
       "      <td>166187.94</td>\n",
       "      <td>172139.51</td>\n",
       "      <td>-5951.57</td>\n",
       "    </tr>\n",
       "    <tr>\n",
       "      <th>5</th>\n",
       "      <td>131876.90</td>\n",
       "      <td>99814.71</td>\n",
       "      <td>362861.36</td>\n",
       "      <td>New York</td>\n",
       "      <td>156991.12</td>\n",
       "      <td>163580.78</td>\n",
       "      <td>-6589.66</td>\n",
       "    </tr>\n",
       "    <tr>\n",
       "      <th>6</th>\n",
       "      <td>134615.46</td>\n",
       "      <td>147198.87</td>\n",
       "      <td>127716.82</td>\n",
       "      <td>California</td>\n",
       "      <td>156122.51</td>\n",
       "      <td>158114.10</td>\n",
       "      <td>-1991.59</td>\n",
       "    </tr>\n",
       "    <tr>\n",
       "      <th>7</th>\n",
       "      <td>130298.13</td>\n",
       "      <td>145530.06</td>\n",
       "      <td>323876.68</td>\n",
       "      <td>Florida</td>\n",
       "      <td>155752.60</td>\n",
       "      <td>160021.36</td>\n",
       "      <td>-4268.76</td>\n",
       "    </tr>\n",
       "    <tr>\n",
       "      <th>8</th>\n",
       "      <td>120542.52</td>\n",
       "      <td>148718.95</td>\n",
       "      <td>311613.29</td>\n",
       "      <td>New York</td>\n",
       "      <td>152211.77</td>\n",
       "      <td>151741.70</td>\n",
       "      <td>470.07</td>\n",
       "    </tr>\n",
       "    <tr>\n",
       "      <th>9</th>\n",
       "      <td>123334.88</td>\n",
       "      <td>108679.17</td>\n",
       "      <td>304981.62</td>\n",
       "      <td>California</td>\n",
       "      <td>149759.96</td>\n",
       "      <td>154884.68</td>\n",
       "      <td>-5124.72</td>\n",
       "    </tr>\n",
       "    <tr>\n",
       "      <th>10</th>\n",
       "      <td>101913.08</td>\n",
       "      <td>110594.11</td>\n",
       "      <td>229160.95</td>\n",
       "      <td>Florida</td>\n",
       "      <td>146121.95</td>\n",
       "      <td>135509.02</td>\n",
       "      <td>10612.93</td>\n",
       "    </tr>\n",
       "    <tr>\n",
       "      <th>11</th>\n",
       "      <td>100671.96</td>\n",
       "      <td>91790.61</td>\n",
       "      <td>249744.55</td>\n",
       "      <td>California</td>\n",
       "      <td>144259.40</td>\n",
       "      <td>135573.71</td>\n",
       "      <td>8685.69</td>\n",
       "    </tr>\n",
       "    <tr>\n",
       "      <th>12</th>\n",
       "      <td>93863.75</td>\n",
       "      <td>127320.38</td>\n",
       "      <td>249839.44</td>\n",
       "      <td>Florida</td>\n",
       "      <td>141585.52</td>\n",
       "      <td>129138.05</td>\n",
       "      <td>12447.47</td>\n",
       "    </tr>\n",
       "    <tr>\n",
       "      <th>13</th>\n",
       "      <td>91992.39</td>\n",
       "      <td>135495.07</td>\n",
       "      <td>252664.93</td>\n",
       "      <td>California</td>\n",
       "      <td>134307.35</td>\n",
       "      <td>127487.99</td>\n",
       "      <td>6819.36</td>\n",
       "    </tr>\n",
       "    <tr>\n",
       "      <th>14</th>\n",
       "      <td>119943.24</td>\n",
       "      <td>156547.42</td>\n",
       "      <td>256512.92</td>\n",
       "      <td>Florida</td>\n",
       "      <td>132602.65</td>\n",
       "      <td>149548.65</td>\n",
       "      <td>-16946.00</td>\n",
       "    </tr>\n",
       "    <tr>\n",
       "      <th>15</th>\n",
       "      <td>114523.61</td>\n",
       "      <td>122616.84</td>\n",
       "      <td>261776.23</td>\n",
       "      <td>New York</td>\n",
       "      <td>129917.04</td>\n",
       "      <td>146235.16</td>\n",
       "      <td>-16318.12</td>\n",
       "    </tr>\n",
       "    <tr>\n",
       "      <th>16</th>\n",
       "      <td>78013.11</td>\n",
       "      <td>121597.55</td>\n",
       "      <td>264346.06</td>\n",
       "      <td>California</td>\n",
       "      <td>126992.93</td>\n",
       "      <td>116915.41</td>\n",
       "      <td>10077.52</td>\n",
       "    </tr>\n",
       "    <tr>\n",
       "      <th>17</th>\n",
       "      <td>94657.16</td>\n",
       "      <td>145077.58</td>\n",
       "      <td>282574.31</td>\n",
       "      <td>New York</td>\n",
       "      <td>125370.37</td>\n",
       "      <td>130192.45</td>\n",
       "      <td>-4822.08</td>\n",
       "    </tr>\n",
       "    <tr>\n",
       "      <th>18</th>\n",
       "      <td>91749.16</td>\n",
       "      <td>114175.79</td>\n",
       "      <td>294919.57</td>\n",
       "      <td>Florida</td>\n",
       "      <td>124266.90</td>\n",
       "      <td>129014.23</td>\n",
       "      <td>-4747.33</td>\n",
       "    </tr>\n",
       "    <tr>\n",
       "      <th>19</th>\n",
       "      <td>86419.70</td>\n",
       "      <td>153514.11</td>\n",
       "      <td>0.00</td>\n",
       "      <td>New York</td>\n",
       "      <td>122776.86</td>\n",
       "      <td>115635.22</td>\n",
       "      <td>7141.64</td>\n",
       "    </tr>\n",
       "    <tr>\n",
       "      <th>20</th>\n",
       "      <td>76253.86</td>\n",
       "      <td>113867.30</td>\n",
       "      <td>298664.47</td>\n",
       "      <td>California</td>\n",
       "      <td>118474.03</td>\n",
       "      <td>116639.67</td>\n",
       "      <td>1834.36</td>\n",
       "    </tr>\n",
       "    <tr>\n",
       "      <th>21</th>\n",
       "      <td>78389.47</td>\n",
       "      <td>153773.43</td>\n",
       "      <td>299737.29</td>\n",
       "      <td>New York</td>\n",
       "      <td>111313.02</td>\n",
       "      <td>117319.45</td>\n",
       "      <td>-6006.43</td>\n",
       "    </tr>\n",
       "    <tr>\n",
       "      <th>22</th>\n",
       "      <td>73994.56</td>\n",
       "      <td>122782.75</td>\n",
       "      <td>303319.26</td>\n",
       "      <td>Florida</td>\n",
       "      <td>110352.25</td>\n",
       "      <td>114706.98</td>\n",
       "      <td>-4354.73</td>\n",
       "    </tr>\n",
       "    <tr>\n",
       "      <th>23</th>\n",
       "      <td>67532.53</td>\n",
       "      <td>105751.03</td>\n",
       "      <td>304768.73</td>\n",
       "      <td>Florida</td>\n",
       "      <td>108733.99</td>\n",
       "      <td>109996.62</td>\n",
       "      <td>-1262.63</td>\n",
       "    </tr>\n",
       "    <tr>\n",
       "      <th>24</th>\n",
       "      <td>77044.01</td>\n",
       "      <td>99281.34</td>\n",
       "      <td>140574.81</td>\n",
       "      <td>New York</td>\n",
       "      <td>108552.04</td>\n",
       "      <td>113362.97</td>\n",
       "      <td>-4810.93</td>\n",
       "    </tr>\n",
       "    <tr>\n",
       "      <th>25</th>\n",
       "      <td>64664.71</td>\n",
       "      <td>139553.16</td>\n",
       "      <td>137962.62</td>\n",
       "      <td>California</td>\n",
       "      <td>107404.34</td>\n",
       "      <td>102237.73</td>\n",
       "      <td>5166.61</td>\n",
       "    </tr>\n",
       "    <tr>\n",
       "      <th>26</th>\n",
       "      <td>75328.87</td>\n",
       "      <td>144135.98</td>\n",
       "      <td>134050.07</td>\n",
       "      <td>Florida</td>\n",
       "      <td>105733.54</td>\n",
       "      <td>110600.58</td>\n",
       "      <td>-4867.04</td>\n",
       "    </tr>\n",
       "    <tr>\n",
       "      <th>27</th>\n",
       "      <td>72107.60</td>\n",
       "      <td>127864.55</td>\n",
       "      <td>353183.81</td>\n",
       "      <td>New York</td>\n",
       "      <td>105008.31</td>\n",
       "      <td>114408.07</td>\n",
       "      <td>-9399.76</td>\n",
       "    </tr>\n",
       "    <tr>\n",
       "      <th>28</th>\n",
       "      <td>66051.52</td>\n",
       "      <td>182645.56</td>\n",
       "      <td>118148.20</td>\n",
       "      <td>Florida</td>\n",
       "      <td>103282.38</td>\n",
       "      <td>101660.03</td>\n",
       "      <td>1622.35</td>\n",
       "    </tr>\n",
       "    <tr>\n",
       "      <th>29</th>\n",
       "      <td>65605.48</td>\n",
       "      <td>153032.06</td>\n",
       "      <td>107138.38</td>\n",
       "      <td>New York</td>\n",
       "      <td>101004.64</td>\n",
       "      <td>101794.98</td>\n",
       "      <td>-790.34</td>\n",
       "    </tr>\n",
       "    <tr>\n",
       "      <th>30</th>\n",
       "      <td>61994.48</td>\n",
       "      <td>115641.28</td>\n",
       "      <td>91131.24</td>\n",
       "      <td>Florida</td>\n",
       "      <td>99937.59</td>\n",
       "      <td>99452.37</td>\n",
       "      <td>485.22</td>\n",
       "    </tr>\n",
       "    <tr>\n",
       "      <th>31</th>\n",
       "      <td>61136.38</td>\n",
       "      <td>152701.92</td>\n",
       "      <td>88218.23</td>\n",
       "      <td>New York</td>\n",
       "      <td>97483.56</td>\n",
       "      <td>97687.86</td>\n",
       "      <td>-204.30</td>\n",
       "    </tr>\n",
       "    <tr>\n",
       "      <th>32</th>\n",
       "      <td>63408.86</td>\n",
       "      <td>129219.61</td>\n",
       "      <td>46085.25</td>\n",
       "      <td>California</td>\n",
       "      <td>97427.84</td>\n",
       "      <td>99001.33</td>\n",
       "      <td>-1573.49</td>\n",
       "    </tr>\n",
       "    <tr>\n",
       "      <th>33</th>\n",
       "      <td>55493.95</td>\n",
       "      <td>103057.49</td>\n",
       "      <td>214634.81</td>\n",
       "      <td>Florida</td>\n",
       "      <td>96778.92</td>\n",
       "      <td>97915.01</td>\n",
       "      <td>-1136.09</td>\n",
       "    </tr>\n",
       "    <tr>\n",
       "      <th>34</th>\n",
       "      <td>46426.07</td>\n",
       "      <td>157693.92</td>\n",
       "      <td>210797.67</td>\n",
       "      <td>California</td>\n",
       "      <td>96712.80</td>\n",
       "      <td>89039.27</td>\n",
       "      <td>7673.53</td>\n",
       "    </tr>\n",
       "    <tr>\n",
       "      <th>35</th>\n",
       "      <td>46014.02</td>\n",
       "      <td>85047.44</td>\n",
       "      <td>205517.64</td>\n",
       "      <td>New York</td>\n",
       "      <td>96479.51</td>\n",
       "      <td>90511.60</td>\n",
       "      <td>5967.91</td>\n",
       "    </tr>\n",
       "    <tr>\n",
       "      <th>36</th>\n",
       "      <td>28663.76</td>\n",
       "      <td>127056.21</td>\n",
       "      <td>201126.82</td>\n",
       "      <td>Florida</td>\n",
       "      <td>90708.19</td>\n",
       "      <td>75286.17</td>\n",
       "      <td>15422.02</td>\n",
       "    </tr>\n",
       "    <tr>\n",
       "      <th>37</th>\n",
       "      <td>44069.95</td>\n",
       "      <td>51283.14</td>\n",
       "      <td>197029.42</td>\n",
       "      <td>California</td>\n",
       "      <td>89949.14</td>\n",
       "      <td>89619.54</td>\n",
       "      <td>329.60</td>\n",
       "    </tr>\n",
       "    <tr>\n",
       "      <th>38</th>\n",
       "      <td>20229.59</td>\n",
       "      <td>65947.93</td>\n",
       "      <td>185265.10</td>\n",
       "      <td>New York</td>\n",
       "      <td>81229.06</td>\n",
       "      <td>69697.43</td>\n",
       "      <td>11531.63</td>\n",
       "    </tr>\n",
       "    <tr>\n",
       "      <th>39</th>\n",
       "      <td>38558.51</td>\n",
       "      <td>82982.09</td>\n",
       "      <td>174999.30</td>\n",
       "      <td>California</td>\n",
       "      <td>81005.76</td>\n",
       "      <td>83729.01</td>\n",
       "      <td>-2723.25</td>\n",
       "    </tr>\n",
       "    <tr>\n",
       "      <th>40</th>\n",
       "      <td>28754.33</td>\n",
       "      <td>118546.05</td>\n",
       "      <td>172795.67</td>\n",
       "      <td>California</td>\n",
       "      <td>78239.91</td>\n",
       "      <td>74815.95</td>\n",
       "      <td>3423.96</td>\n",
       "    </tr>\n",
       "    <tr>\n",
       "      <th>41</th>\n",
       "      <td>27892.92</td>\n",
       "      <td>84710.77</td>\n",
       "      <td>164470.71</td>\n",
       "      <td>Florida</td>\n",
       "      <td>77798.83</td>\n",
       "      <td>74802.56</td>\n",
       "      <td>2996.27</td>\n",
       "    </tr>\n",
       "    <tr>\n",
       "      <th>42</th>\n",
       "      <td>23640.93</td>\n",
       "      <td>96189.63</td>\n",
       "      <td>148001.11</td>\n",
       "      <td>California</td>\n",
       "      <td>71498.49</td>\n",
       "      <td>70620.41</td>\n",
       "      <td>878.08</td>\n",
       "    </tr>\n",
       "    <tr>\n",
       "      <th>43</th>\n",
       "      <td>15505.73</td>\n",
       "      <td>127382.30</td>\n",
       "      <td>35534.17</td>\n",
       "      <td>New York</td>\n",
       "      <td>69758.98</td>\n",
       "      <td>60167.04</td>\n",
       "      <td>9591.94</td>\n",
       "    </tr>\n",
       "    <tr>\n",
       "      <th>44</th>\n",
       "      <td>22177.74</td>\n",
       "      <td>154806.14</td>\n",
       "      <td>28334.72</td>\n",
       "      <td>California</td>\n",
       "      <td>65200.33</td>\n",
       "      <td>64611.35</td>\n",
       "      <td>588.98</td>\n",
       "    </tr>\n",
       "    <tr>\n",
       "      <th>45</th>\n",
       "      <td>1000.23</td>\n",
       "      <td>124153.04</td>\n",
       "      <td>1903.93</td>\n",
       "      <td>New York</td>\n",
       "      <td>64926.08</td>\n",
       "      <td>47650.65</td>\n",
       "      <td>17275.43</td>\n",
       "    </tr>\n",
       "    <tr>\n",
       "      <th>46</th>\n",
       "      <td>1315.46</td>\n",
       "      <td>115816.21</td>\n",
       "      <td>297114.46</td>\n",
       "      <td>Florida</td>\n",
       "      <td>49490.75</td>\n",
       "      <td>56166.21</td>\n",
       "      <td>-6675.46</td>\n",
       "    </tr>\n",
       "    <tr>\n",
       "      <th>47</th>\n",
       "      <td>0.00</td>\n",
       "      <td>135426.92</td>\n",
       "      <td>0.00</td>\n",
       "      <td>California</td>\n",
       "      <td>42559.73</td>\n",
       "      <td>46490.59</td>\n",
       "      <td>-3930.86</td>\n",
       "    </tr>\n",
       "    <tr>\n",
       "      <th>48</th>\n",
       "      <td>542.05</td>\n",
       "      <td>51743.15</td>\n",
       "      <td>0.00</td>\n",
       "      <td>New York</td>\n",
       "      <td>35673.41</td>\n",
       "      <td>49171.39</td>\n",
       "      <td>-13497.98</td>\n",
       "    </tr>\n",
       "    <tr>\n",
       "      <th>49</th>\n",
       "      <td>0.00</td>\n",
       "      <td>116983.80</td>\n",
       "      <td>45173.06</td>\n",
       "      <td>California</td>\n",
       "      <td>14681.40</td>\n",
       "      <td>48215.13</td>\n",
       "      <td>-33533.73</td>\n",
       "    </tr>\n",
       "  </tbody>\n",
       "</table>\n",
       "</div>"
      ],
      "text/plain": [
       "        RandD      Admin  Marketing       State     Profit  Predicted Values  \\\n",
       "0   165349.20  136897.80  471784.10    New York  192261.83         192521.25   \n",
       "1   162597.70  151377.59  443898.53  California  191792.06         189156.77   \n",
       "2   153441.51  101145.55  407934.54     Florida  191050.39         182147.28   \n",
       "3   144372.41  118671.85  383199.62    New York  182901.99         173696.70   \n",
       "4   142107.34   91391.77  366168.42     Florida  166187.94         172139.51   \n",
       "5   131876.90   99814.71  362861.36    New York  156991.12         163580.78   \n",
       "6   134615.46  147198.87  127716.82  California  156122.51         158114.10   \n",
       "7   130298.13  145530.06  323876.68     Florida  155752.60         160021.36   \n",
       "8   120542.52  148718.95  311613.29    New York  152211.77         151741.70   \n",
       "9   123334.88  108679.17  304981.62  California  149759.96         154884.68   \n",
       "10  101913.08  110594.11  229160.95     Florida  146121.95         135509.02   \n",
       "11  100671.96   91790.61  249744.55  California  144259.40         135573.71   \n",
       "12   93863.75  127320.38  249839.44     Florida  141585.52         129138.05   \n",
       "13   91992.39  135495.07  252664.93  California  134307.35         127487.99   \n",
       "14  119943.24  156547.42  256512.92     Florida  132602.65         149548.65   \n",
       "15  114523.61  122616.84  261776.23    New York  129917.04         146235.16   \n",
       "16   78013.11  121597.55  264346.06  California  126992.93         116915.41   \n",
       "17   94657.16  145077.58  282574.31    New York  125370.37         130192.45   \n",
       "18   91749.16  114175.79  294919.57     Florida  124266.90         129014.23   \n",
       "19   86419.70  153514.11       0.00    New York  122776.86         115635.22   \n",
       "20   76253.86  113867.30  298664.47  California  118474.03         116639.67   \n",
       "21   78389.47  153773.43  299737.29    New York  111313.02         117319.45   \n",
       "22   73994.56  122782.75  303319.26     Florida  110352.25         114706.98   \n",
       "23   67532.53  105751.03  304768.73     Florida  108733.99         109996.62   \n",
       "24   77044.01   99281.34  140574.81    New York  108552.04         113362.97   \n",
       "25   64664.71  139553.16  137962.62  California  107404.34         102237.73   \n",
       "26   75328.87  144135.98  134050.07     Florida  105733.54         110600.58   \n",
       "27   72107.60  127864.55  353183.81    New York  105008.31         114408.07   \n",
       "28   66051.52  182645.56  118148.20     Florida  103282.38         101660.03   \n",
       "29   65605.48  153032.06  107138.38    New York  101004.64         101794.98   \n",
       "30   61994.48  115641.28   91131.24     Florida   99937.59          99452.37   \n",
       "31   61136.38  152701.92   88218.23    New York   97483.56          97687.86   \n",
       "32   63408.86  129219.61   46085.25  California   97427.84          99001.33   \n",
       "33   55493.95  103057.49  214634.81     Florida   96778.92          97915.01   \n",
       "34   46426.07  157693.92  210797.67  California   96712.80          89039.27   \n",
       "35   46014.02   85047.44  205517.64    New York   96479.51          90511.60   \n",
       "36   28663.76  127056.21  201126.82     Florida   90708.19          75286.17   \n",
       "37   44069.95   51283.14  197029.42  California   89949.14          89619.54   \n",
       "38   20229.59   65947.93  185265.10    New York   81229.06          69697.43   \n",
       "39   38558.51   82982.09  174999.30  California   81005.76          83729.01   \n",
       "40   28754.33  118546.05  172795.67  California   78239.91          74815.95   \n",
       "41   27892.92   84710.77  164470.71     Florida   77798.83          74802.56   \n",
       "42   23640.93   96189.63  148001.11  California   71498.49          70620.41   \n",
       "43   15505.73  127382.30   35534.17    New York   69758.98          60167.04   \n",
       "44   22177.74  154806.14   28334.72  California   65200.33          64611.35   \n",
       "45    1000.23  124153.04    1903.93    New York   64926.08          47650.65   \n",
       "46    1315.46  115816.21  297114.46     Florida   49490.75          56166.21   \n",
       "47       0.00  135426.92       0.00  California   42559.73          46490.59   \n",
       "48     542.05   51743.15       0.00    New York   35673.41          49171.39   \n",
       "49       0.00  116983.80   45173.06  California   14681.40          48215.13   \n",
       "\n",
       "    Error Value  \n",
       "0       -259.42  \n",
       "1       2635.29  \n",
       "2       8903.11  \n",
       "3       9205.29  \n",
       "4      -5951.57  \n",
       "5      -6589.66  \n",
       "6      -1991.59  \n",
       "7      -4268.76  \n",
       "8        470.07  \n",
       "9      -5124.72  \n",
       "10     10612.93  \n",
       "11      8685.69  \n",
       "12     12447.47  \n",
       "13      6819.36  \n",
       "14    -16946.00  \n",
       "15    -16318.12  \n",
       "16     10077.52  \n",
       "17     -4822.08  \n",
       "18     -4747.33  \n",
       "19      7141.64  \n",
       "20      1834.36  \n",
       "21     -6006.43  \n",
       "22     -4354.73  \n",
       "23     -1262.63  \n",
       "24     -4810.93  \n",
       "25      5166.61  \n",
       "26     -4867.04  \n",
       "27     -9399.76  \n",
       "28      1622.35  \n",
       "29      -790.34  \n",
       "30       485.22  \n",
       "31      -204.30  \n",
       "32     -1573.49  \n",
       "33     -1136.09  \n",
       "34      7673.53  \n",
       "35      5967.91  \n",
       "36     15422.02  \n",
       "37       329.60  \n",
       "38     11531.63  \n",
       "39     -2723.25  \n",
       "40      3423.96  \n",
       "41      2996.27  \n",
       "42       878.08  \n",
       "43      9591.94  \n",
       "44       588.98  \n",
       "45     17275.43  \n",
       "46     -6675.46  \n",
       "47     -3930.86  \n",
       "48    -13497.98  \n",
       "49    -33533.73  "
      ]
     },
     "execution_count": 77,
     "metadata": {},
     "output_type": "execute_result"
    }
   ],
   "source": [
    "data1 = pd.DataFrame({\"Predicted Values\":np.round(model.predict(data),2) , \"Error Value\":data.Profit - np.round(model.predict(data),2)})\n",
    "data2 = pd.concat([data,data1],axis=1)\n",
    "data2"
   ]
  },
  {
   "cell_type": "code",
   "execution_count": null,
   "id": "05174ec3",
   "metadata": {},
   "outputs": [],
   "source": []
  }
 ],
 "metadata": {
  "kernelspec": {
   "display_name": "Python 3",
   "language": "python",
   "name": "python3"
  },
  "language_info": {
   "codemirror_mode": {
    "name": "ipython",
    "version": 3
   },
   "file_extension": ".py",
   "mimetype": "text/x-python",
   "name": "python",
   "nbconvert_exporter": "python",
   "pygments_lexer": "ipython3",
   "version": "3.8.8"
  },
  "toc": {
   "base_numbering": 1,
   "nav_menu": {},
   "number_sections": true,
   "sideBar": true,
   "skip_h1_title": false,
   "title_cell": "Table of Contents",
   "title_sidebar": "Contents",
   "toc_cell": false,
   "toc_position": {},
   "toc_section_display": true,
   "toc_window_display": false
  },
  "varInspector": {
   "cols": {
    "lenName": 16,
    "lenType": 16,
    "lenVar": 40
   },
   "kernels_config": {
    "python": {
     "delete_cmd_postfix": "",
     "delete_cmd_prefix": "del ",
     "library": "var_list.py",
     "varRefreshCmd": "print(var_dic_list())"
    },
    "r": {
     "delete_cmd_postfix": ") ",
     "delete_cmd_prefix": "rm(",
     "library": "var_list.r",
     "varRefreshCmd": "cat(var_dic_list()) "
    }
   },
   "types_to_exclude": [
    "module",
    "function",
    "builtin_function_or_method",
    "instance",
    "_Feature"
   ],
   "window_display": false
  }
 },
 "nbformat": 4,
 "nbformat_minor": 5
}
