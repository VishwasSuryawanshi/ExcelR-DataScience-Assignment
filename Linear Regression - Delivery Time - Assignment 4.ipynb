{
 "cells": [
  {
   "cell_type": "markdown",
   "id": "283ba71f",
   "metadata": {},
   "source": [
    "## Delivery_time -> Predict delivery time using sorting time "
   ]
  },
  {
   "cell_type": "code",
   "execution_count": 1,
   "id": "3971cc87",
   "metadata": {
    "ExecuteTime": {
     "end_time": "2021-10-19T09:02:42.620784Z",
     "start_time": "2021-10-19T09:02:07.733498Z"
    }
   },
   "outputs": [],
   "source": [
    "import pandas as pd\n",
    "import numpy as np\n",
    "from scipy import stats\n",
    "import matplotlib.pyplot as plt\n",
    "import seaborn as sns\n",
    "from sklearn.linear_model import LinearRegression\n",
    "from sklearn.model_selection import train_test_split\n",
    "%matplotlib inline"
   ]
  },
  {
   "cell_type": "code",
   "execution_count": 22,
   "id": "afcfc331",
   "metadata": {
    "ExecuteTime": {
     "end_time": "2021-10-19T09:19:33.178196Z",
     "start_time": "2021-10-19T09:19:33.157253Z"
    }
   },
   "outputs": [
    {
     "data": {
      "text/html": [
       "<div>\n",
       "<style scoped>\n",
       "    .dataframe tbody tr th:only-of-type {\n",
       "        vertical-align: middle;\n",
       "    }\n",
       "\n",
       "    .dataframe tbody tr th {\n",
       "        vertical-align: top;\n",
       "    }\n",
       "\n",
       "    .dataframe thead th {\n",
       "        text-align: right;\n",
       "    }\n",
       "</style>\n",
       "<table border=\"1\" class=\"dataframe\">\n",
       "  <thead>\n",
       "    <tr style=\"text-align: right;\">\n",
       "      <th></th>\n",
       "      <th>Delivery Time</th>\n",
       "      <th>Sorting Time</th>\n",
       "    </tr>\n",
       "  </thead>\n",
       "  <tbody>\n",
       "    <tr>\n",
       "      <th>0</th>\n",
       "      <td>21.00</td>\n",
       "      <td>10</td>\n",
       "    </tr>\n",
       "    <tr>\n",
       "      <th>1</th>\n",
       "      <td>13.50</td>\n",
       "      <td>4</td>\n",
       "    </tr>\n",
       "    <tr>\n",
       "      <th>2</th>\n",
       "      <td>19.75</td>\n",
       "      <td>6</td>\n",
       "    </tr>\n",
       "    <tr>\n",
       "      <th>3</th>\n",
       "      <td>24.00</td>\n",
       "      <td>9</td>\n",
       "    </tr>\n",
       "    <tr>\n",
       "      <th>4</th>\n",
       "      <td>29.00</td>\n",
       "      <td>10</td>\n",
       "    </tr>\n",
       "  </tbody>\n",
       "</table>\n",
       "</div>"
      ],
      "text/plain": [
       "   Delivery Time  Sorting Time\n",
       "0          21.00            10\n",
       "1          13.50             4\n",
       "2          19.75             6\n",
       "3          24.00             9\n",
       "4          29.00            10"
      ]
     },
     "execution_count": 22,
     "metadata": {},
     "output_type": "execute_result"
    }
   ],
   "source": [
    "data = pd.read_csv(\"C:\\\\Users\\\\Lenovo\\\\Desktop\\\\ExcelR\\\\Data Science Assignments\\\\4_Simple Linear Regression\\\\delivery_time.csv\")\n",
    "data.head()"
   ]
  },
  {
   "cell_type": "code",
   "execution_count": 66,
   "id": "7f403cec",
   "metadata": {
    "ExecuteTime": {
     "end_time": "2021-10-19T10:01:29.341433Z",
     "start_time": "2021-10-19T10:01:29.182796Z"
    }
   },
   "outputs": [
    {
     "data": {
      "text/plain": [
       "<AxesSubplot:xlabel='Sorting Time', ylabel='Delivery Time'>"
      ]
     },
     "execution_count": 66,
     "metadata": {},
     "output_type": "execute_result"
    },
    {
     "data": {
      "image/png": "[encoded data removed]",
      "text/plain": [
       "<Figure size 432x288 with 1 Axes>"
      ]
     },
     "metadata": {
      "needs_background": "light"
     },
     "output_type": "display_data"
    }
   ],
   "source": [
    "sns.scatterplot(x=data[\"Sorting Time\"], y=data[\"Delivery Time\"])"
   ]
  },
  {
   "cell_type": "code",
   "execution_count": 5,
   "id": "6172c3ef",
   "metadata": {
    "ExecuteTime": {
     "end_time": "2021-10-19T09:07:11.392376Z",
     "start_time": "2021-10-19T09:07:11.169301Z"
    }
   },
   "outputs": [
    {
     "data": {
      "text/html": [
       "<div>\n",
       "<style scoped>\n",
       "    .dataframe tbody tr th:only-of-type {\n",
       "        vertical-align: middle;\n",
       "    }\n",
       "\n",
       "    .dataframe tbody tr th {\n",
       "        vertical-align: top;\n",
       "    }\n",
       "\n",
       "    .dataframe thead th {\n",
       "        text-align: right;\n",
       "    }\n",
       "</style>\n",
       "<table border=\"1\" class=\"dataframe\">\n",
       "  <thead>\n",
       "    <tr style=\"text-align: right;\">\n",
       "      <th></th>\n",
       "      <th>Delivery Time</th>\n",
       "      <th>Sorting Time</th>\n",
       "    </tr>\n",
       "  </thead>\n",
       "  <tbody>\n",
       "    <tr>\n",
       "      <th>Delivery Time</th>\n",
       "      <td>1.000000</td>\n",
       "      <td>0.825997</td>\n",
       "    </tr>\n",
       "    <tr>\n",
       "      <th>Sorting Time</th>\n",
       "      <td>0.825997</td>\n",
       "      <td>1.000000</td>\n",
       "    </tr>\n",
       "  </tbody>\n",
       "</table>\n",
       "</div>"
      ],
      "text/plain": [
       "               Delivery Time  Sorting Time\n",
       "Delivery Time       1.000000      0.825997\n",
       "Sorting Time        0.825997      1.000000"
      ]
     },
     "execution_count": 5,
     "metadata": {},
     "output_type": "execute_result"
    }
   ],
   "source": [
    "data.corr()"
   ]
  },
  {
   "cell_type": "code",
   "execution_count": 11,
   "id": "6ba813c0",
   "metadata": {
    "ExecuteTime": {
     "end_time": "2021-10-19T09:11:46.604245Z",
     "start_time": "2021-10-19T09:11:46.587290Z"
    }
   },
   "outputs": [
    {
     "name": "stdout",
     "output_type": "stream",
     "text": [
      "Dimension :  1\n",
      "Shape :  (21,)\n"
     ]
    }
   ],
   "source": [
    "x=np.array(data[\"Sorting Time\"])\n",
    "print(\"Dimension : \",x.ndim)\n",
    "print(\"Shape : \",x.shape)"
   ]
  },
  {
   "cell_type": "code",
   "execution_count": 15,
   "id": "10ab1ba6",
   "metadata": {
    "ExecuteTime": {
     "end_time": "2021-10-19T09:12:47.732682Z",
     "start_time": "2021-10-19T09:12:47.718356Z"
    }
   },
   "outputs": [
    {
     "name": "stdout",
     "output_type": "stream",
     "text": [
      "Dimension :  2\n",
      "Shape :  (21, 1)\n"
     ]
    }
   ],
   "source": [
    "x=x.reshape(-1,1)\n",
    "print(\"Dimension : \",x.ndim)\n",
    "print(\"Shape : \",x.shape)"
   ]
  },
  {
   "cell_type": "code",
   "execution_count": 17,
   "id": "0a052857",
   "metadata": {
    "ExecuteTime": {
     "end_time": "2021-10-19T09:13:52.630821Z",
     "start_time": "2021-10-19T09:13:52.625836Z"
    }
   },
   "outputs": [
    {
     "name": "stdout",
     "output_type": "stream",
     "text": [
      "Dimension :  2\n",
      "Shape :  (21, 1)\n"
     ]
    }
   ],
   "source": [
    "y=np.array(data[\"Delivery Time\"]).reshape(-1,1)\n",
    "print(\"Dimension : \",y.ndim)\n",
    "print(\"Shape : \",y.shape)"
   ]
  },
  {
   "cell_type": "code",
   "execution_count": 19,
   "id": "40cc7b2b",
   "metadata": {
    "ExecuteTime": {
     "end_time": "2021-10-19T09:17:57.485847Z",
     "start_time": "2021-10-19T09:17:57.250167Z"
    }
   },
   "outputs": [],
   "source": [
    "x_train,x_test,y_train,y_test = train_test_split(x,y,test_size=0.2)"
   ]
  },
  {
   "cell_type": "code",
   "execution_count": 23,
   "id": "fc355cee",
   "metadata": {
    "ExecuteTime": {
     "end_time": "2021-10-19T09:20:26.432389Z",
     "start_time": "2021-10-19T09:20:26.420422Z"
    }
   },
   "outputs": [
    {
     "name": "stdout",
     "output_type": "stream",
     "text": [
      "Length of X_train :  16\n",
      "Length of Y_train :  16\n",
      "Length of X_test :  5\n",
      "Length of Y_test :  5\n"
     ]
    }
   ],
   "source": [
    "print(\"Length of X_train : \", len(x_train))\n",
    "print(\"Length of Y_train : \", len(y_train))\n",
    "print(\"Length of X_test : \", len(x_test))\n",
    "print(\"Length of Y_test : \", len(y_test))"
   ]
  },
  {
   "cell_type": "code",
   "execution_count": 33,
   "id": "e30d66a5",
   "metadata": {
    "ExecuteTime": {
     "end_time": "2021-10-19T09:25:48.905627Z",
     "start_time": "2021-10-19T09:25:48.898647Z"
    }
   },
   "outputs": [
    {
     "data": {
      "text/plain": [
       "array([[ 6],\n",
       "       [ 4],\n",
       "       [ 7],\n",
       "       [10],\n",
       "       [ 3]], dtype=int64)"
      ]
     },
     "execution_count": 33,
     "metadata": {},
     "output_type": "execute_result"
    }
   ],
   "source": [
    "x_test"
   ]
  },
  {
   "cell_type": "code",
   "execution_count": 34,
   "id": "859438e5",
   "metadata": {
    "ExecuteTime": {
     "end_time": "2021-10-19T09:25:50.878180Z",
     "start_time": "2021-10-19T09:25:50.872200Z"
    }
   },
   "outputs": [
    {
     "data": {
      "text/plain": [
       "array([[13.75],\n",
       "       [13.5 ],\n",
       "       [16.68],\n",
       "       [21.  ],\n",
       "       [11.5 ]])"
      ]
     },
     "execution_count": 34,
     "metadata": {},
     "output_type": "execute_result"
    }
   ],
   "source": [
    "y_test"
   ]
  },
  {
   "cell_type": "code",
   "execution_count": 35,
   "id": "b0e8ccef",
   "metadata": {
    "ExecuteTime": {
     "end_time": "2021-10-19T09:25:51.991628Z",
     "start_time": "2021-10-19T09:25:51.980345Z"
    }
   },
   "outputs": [
    {
     "data": {
      "text/plain": [
       "LinearRegression()"
      ]
     },
     "execution_count": 35,
     "metadata": {},
     "output_type": "execute_result"
    }
   ],
   "source": [
    "model = LinearRegression()\n",
    "model.fit(x_train,y_train)"
   ]
  },
  {
   "cell_type": "code",
   "execution_count": 36,
   "id": "07be8d83",
   "metadata": {
    "ExecuteTime": {
     "end_time": "2021-10-19T09:25:54.252578Z",
     "start_time": "2021-10-19T09:25:54.237620Z"
    }
   },
   "outputs": [
    {
     "data": {
      "text/plain": [
       "0.6186654104864631"
      ]
     },
     "execution_count": 36,
     "metadata": {},
     "output_type": "execute_result"
    }
   ],
   "source": [
    "model.score(x_test,y_test)"
   ]
  },
  {
   "cell_type": "code",
   "execution_count": 37,
   "id": "a75f1aa2",
   "metadata": {
    "ExecuteTime": {
     "end_time": "2021-10-19T09:25:55.412276Z",
     "start_time": "2021-10-19T09:25:55.252997Z"
    }
   },
   "outputs": [
    {
     "data": {
      "image/png": "[encoded data removed]",
      "text/plain": [
       "<Figure size 432x288 with 1 Axes>"
      ]
     },
     "metadata": {
      "needs_background": "light"
     },
     "output_type": "display_data"
    }
   ],
   "source": [
    "sns.scatterplot(x=data[\"Sorting Time\"],y=data[\"Delivery Time\"])\n",
    "plt.plot(x_test,model.predict(x_test))\n",
    "plt.show()"
   ]
  },
  {
   "cell_type": "code",
   "execution_count": 40,
   "id": "d297df15",
   "metadata": {
    "ExecuteTime": {
     "end_time": "2021-10-19T09:34:47.209175Z",
     "start_time": "2021-10-19T09:34:47.201198Z"
    }
   },
   "outputs": [
    {
     "data": {
      "text/plain": [
       "array([[1.73792929]])"
      ]
     },
     "execution_count": 40,
     "metadata": {},
     "output_type": "execute_result"
    }
   ],
   "source": [
    "model.coef_"
   ]
  },
  {
   "cell_type": "code",
   "execution_count": 41,
   "id": "98a069da",
   "metadata": {
    "ExecuteTime": {
     "end_time": "2021-10-19T09:35:01.274515Z",
     "start_time": "2021-10-19T09:35:01.261551Z"
    }
   },
   "outputs": [
    {
     "data": {
      "text/plain": [
       "array([6.39919192])"
      ]
     },
     "execution_count": 41,
     "metadata": {},
     "output_type": "execute_result"
    }
   ],
   "source": [
    "model.intercept_"
   ]
  },
  {
   "cell_type": "code",
   "execution_count": 54,
   "id": "215bc785",
   "metadata": {
    "ExecuteTime": {
     "end_time": "2021-10-19T09:45:35.986179Z",
     "start_time": "2021-10-19T09:45:35.977237Z"
    }
   },
   "outputs": [
    {
     "data": {
      "text/plain": [
       "array([[16.83],\n",
       "       [13.35],\n",
       "       [18.56],\n",
       "       [23.78],\n",
       "       [11.61]])"
      ]
     },
     "execution_count": 54,
     "metadata": {},
     "output_type": "execute_result"
    }
   ],
   "source": [
    "y_predicted = model.predict(x_test)\n",
    "y_predicted = np.round(y_predicted,2)\n",
    "y_predicted"
   ]
  },
  {
   "cell_type": "code",
   "execution_count": 47,
   "id": "d53dca1b",
   "metadata": {
    "ExecuteTime": {
     "end_time": "2021-10-19T09:37:25.124224Z",
     "start_time": "2021-10-19T09:37:25.117242Z"
    }
   },
   "outputs": [
    {
     "data": {
      "text/plain": [
       "array([ 6,  4,  7, 10,  3], dtype=int64)"
      ]
     },
     "execution_count": 47,
     "metadata": {},
     "output_type": "execute_result"
    }
   ],
   "source": [
    "x_test[0:,0]"
   ]
  },
  {
   "cell_type": "code",
   "execution_count": 48,
   "id": "c983ce4d",
   "metadata": {
    "ExecuteTime": {
     "end_time": "2021-10-19T09:37:35.956588Z",
     "start_time": "2021-10-19T09:37:35.937641Z"
    }
   },
   "outputs": [
    {
     "data": {
      "text/plain": [
       "array([13.75, 13.5 , 16.68, 21.  , 11.5 ])"
      ]
     },
     "execution_count": 48,
     "metadata": {},
     "output_type": "execute_result"
    }
   ],
   "source": [
    "y_test[0:,0]"
   ]
  },
  {
   "cell_type": "code",
   "execution_count": 55,
   "id": "70f891fa",
   "metadata": {
    "ExecuteTime": {
     "end_time": "2021-10-19T09:45:39.188506Z",
     "start_time": "2021-10-19T09:45:39.167561Z"
    }
   },
   "outputs": [
    {
     "data": {
      "text/html": [
       "<div>\n",
       "<style scoped>\n",
       "    .dataframe tbody tr th:only-of-type {\n",
       "        vertical-align: middle;\n",
       "    }\n",
       "\n",
       "    .dataframe tbody tr th {\n",
       "        vertical-align: top;\n",
       "    }\n",
       "\n",
       "    .dataframe thead th {\n",
       "        text-align: right;\n",
       "    }\n",
       "</style>\n",
       "<table border=\"1\" class=\"dataframe\">\n",
       "  <thead>\n",
       "    <tr style=\"text-align: right;\">\n",
       "      <th></th>\n",
       "      <th>Test_Sorting_Time</th>\n",
       "      <th>Actual_Delivery_Time</th>\n",
       "      <th>Predicted_Delivery_Time</th>\n",
       "    </tr>\n",
       "  </thead>\n",
       "  <tbody>\n",
       "    <tr>\n",
       "      <th>0</th>\n",
       "      <td>6</td>\n",
       "      <td>13.75</td>\n",
       "      <td>16.83</td>\n",
       "    </tr>\n",
       "    <tr>\n",
       "      <th>1</th>\n",
       "      <td>4</td>\n",
       "      <td>13.50</td>\n",
       "      <td>13.35</td>\n",
       "    </tr>\n",
       "    <tr>\n",
       "      <th>2</th>\n",
       "      <td>7</td>\n",
       "      <td>16.68</td>\n",
       "      <td>18.56</td>\n",
       "    </tr>\n",
       "    <tr>\n",
       "      <th>3</th>\n",
       "      <td>10</td>\n",
       "      <td>21.00</td>\n",
       "      <td>23.78</td>\n",
       "    </tr>\n",
       "    <tr>\n",
       "      <th>4</th>\n",
       "      <td>3</td>\n",
       "      <td>11.50</td>\n",
       "      <td>11.61</td>\n",
       "    </tr>\n",
       "  </tbody>\n",
       "</table>\n",
       "</div>"
      ],
      "text/plain": [
       "   Test_Sorting_Time  Actual_Delivery_Time  Predicted_Delivery_Time\n",
       "0                  6                 13.75                    16.83\n",
       "1                  4                 13.50                    13.35\n",
       "2                  7                 16.68                    18.56\n",
       "3                 10                 21.00                    23.78\n",
       "4                  3                 11.50                    11.61"
      ]
     },
     "execution_count": 55,
     "metadata": {},
     "output_type": "execute_result"
    }
   ],
   "source": [
    "data_1 = {\"Test_Sorting_Time\" : x_test[0:,0], \"Actual_Delivery_Time\" : y_test[0:,0], \"Predicted_Delivery_Time\" : y_predicted[0:,0]}\n",
    "data_1 = pd.DataFrame(data_1)\n",
    "data_1.to_csv(\"C:\\\\Users\\\\Lenovo\\\\Desktop\\\\ExcelR\\\\Data Science Assignments\\\\4_Simple Linear Regression\\\\predicted_delivery_time.csv\")\n",
    "data_1.head()"
   ]
  },
  {
   "cell_type": "code",
   "execution_count": 57,
   "id": "01da0a2a",
   "metadata": {
    "ExecuteTime": {
     "end_time": "2021-10-19T09:47:43.301419Z",
     "start_time": "2021-10-19T09:47:41.340418Z"
    }
   },
   "outputs": [],
   "source": [
    "import statsmodels.formula.api as smf"
   ]
  },
  {
   "cell_type": "code",
   "execution_count": 63,
   "id": "086ceea4",
   "metadata": {
    "ExecuteTime": {
     "end_time": "2021-10-19T09:49:53.166189Z",
     "start_time": "2021-10-19T09:49:53.158209Z"
    }
   },
   "outputs": [],
   "source": [
    "linear_model = smf.ols(\"y~x\", data=data).fit()"
   ]
  },
  {
   "cell_type": "code",
   "execution_count": 64,
   "id": "23eacf75",
   "metadata": {
    "ExecuteTime": {
     "end_time": "2021-10-19T09:49:56.246177Z",
     "start_time": "2021-10-19T09:49:56.234211Z"
    }
   },
   "outputs": [
    {
     "data": {
      "text/plain": [
       "Intercept    6.582734\n",
       "x            1.649020\n",
       "dtype: float64"
      ]
     },
     "execution_count": 64,
     "metadata": {},
     "output_type": "execute_result"
    }
   ],
   "source": [
    "linear_model.params"
   ]
  },
  {
   "cell_type": "code",
   "execution_count": 65,
   "id": "ce6259a6",
   "metadata": {
    "ExecuteTime": {
     "end_time": "2021-10-19T09:49:57.455487Z",
     "start_time": "2021-10-19T09:49:57.432512Z"
    }
   },
   "outputs": [
    {
     "data": {
      "text/html": [
       "<table class=\"simpletable\">\n",
       "<caption>OLS Regression Results</caption>\n",
       "<tr>\n",
       "  <th>Dep. Variable:</th>            <td>y</td>        <th>  R-squared:         </th> <td>   0.682</td>\n",
       "</tr>\n",
       "<tr>\n",
       "  <th>Model:</th>                   <td>OLS</td>       <th>  Adj. R-squared:    </th> <td>   0.666</td>\n",
       "</tr>\n",
       "<tr>\n",
       "  <th>Method:</th>             <td>Least Squares</td>  <th>  F-statistic:       </th> <td>   40.80</td>\n",
       "</tr>\n",
       "<tr>\n",
       "  <th>Date:</th>             <td>Tue, 19 Oct 2021</td> <th>  Prob (F-statistic):</th> <td>3.98e-06</td>\n",
       "</tr>\n",
       "<tr>\n",
       "  <th>Time:</th>                 <td>15:19:57</td>     <th>  Log-Likelihood:    </th> <td> -51.357</td>\n",
       "</tr>\n",
       "<tr>\n",
       "  <th>No. Observations:</th>      <td>    21</td>      <th>  AIC:               </th> <td>   106.7</td>\n",
       "</tr>\n",
       "<tr>\n",
       "  <th>Df Residuals:</th>          <td>    19</td>      <th>  BIC:               </th> <td>   108.8</td>\n",
       "</tr>\n",
       "<tr>\n",
       "  <th>Df Model:</th>              <td>     1</td>      <th>                     </th>     <td> </td>   \n",
       "</tr>\n",
       "<tr>\n",
       "  <th>Covariance Type:</th>      <td>nonrobust</td>    <th>                     </th>     <td> </td>   \n",
       "</tr>\n",
       "</table>\n",
       "<table class=\"simpletable\">\n",
       "<tr>\n",
       "      <td></td>         <th>coef</th>     <th>std err</th>      <th>t</th>      <th>P>|t|</th>  <th>[0.025</th>    <th>0.975]</th>  \n",
       "</tr>\n",
       "<tr>\n",
       "  <th>Intercept</th> <td>    6.5827</td> <td>    1.722</td> <td>    3.823</td> <td> 0.001</td> <td>    2.979</td> <td>   10.186</td>\n",
       "</tr>\n",
       "<tr>\n",
       "  <th>x</th>         <td>    1.6490</td> <td>    0.258</td> <td>    6.387</td> <td> 0.000</td> <td>    1.109</td> <td>    2.189</td>\n",
       "</tr>\n",
       "</table>\n",
       "<table class=\"simpletable\">\n",
       "<tr>\n",
       "  <th>Omnibus:</th>       <td> 3.649</td> <th>  Durbin-Watson:     </th> <td>   1.248</td>\n",
       "</tr>\n",
       "<tr>\n",
       "  <th>Prob(Omnibus):</th> <td> 0.161</td> <th>  Jarque-Bera (JB):  </th> <td>   2.086</td>\n",
       "</tr>\n",
       "<tr>\n",
       "  <th>Skew:</th>          <td> 0.750</td> <th>  Prob(JB):          </th> <td>   0.352</td>\n",
       "</tr>\n",
       "<tr>\n",
       "  <th>Kurtosis:</th>      <td> 3.367</td> <th>  Cond. No.          </th> <td>    18.3</td>\n",
       "</tr>\n",
       "</table><br/><br/>Notes:<br/>[1] Standard Errors assume that the covariance matrix of the errors is correctly specified."
      ],
      "text/plain": [
       "<class 'statsmodels.iolib.summary.Summary'>\n",
       "\"\"\"\n",
       "                            OLS Regression Results                            \n",
       "==============================================================================\n",
       "Dep. Variable:                      y   R-squared:                       0.682\n",
       "Model:                            OLS   Adj. R-squared:                  0.666\n",
       "Method:                 Least Squares   F-statistic:                     40.80\n",
       "Date:                Tue, 19 Oct 2021   Prob (F-statistic):           3.98e-06\n",
       "Time:                        15:19:57   Log-Likelihood:                -51.357\n",
       "No. Observations:                  21   AIC:                             106.7\n",
       "Df Residuals:                      19   BIC:                             108.8\n",
       "Df Model:                           1                                         \n",
       "Covariance Type:            nonrobust                                         \n",
       "==============================================================================\n",
       "                 coef    std err          t      P>|t|      [0.025      0.975]\n",
       "------------------------------------------------------------------------------\n",
       "Intercept      6.5827      1.722      3.823      0.001       2.979      10.186\n",
       "x              1.6490      0.258      6.387      0.000       1.109       2.189\n",
       "==============================================================================\n",
       "Omnibus:                        3.649   Durbin-Watson:                   1.248\n",
       "Prob(Omnibus):                  0.161   Jarque-Bera (JB):                2.086\n",
       "Skew:                           0.750   Prob(JB):                        0.352\n",
       "Kurtosis:                       3.367   Cond. No.                         18.3\n",
       "==============================================================================\n",
       "\n",
       "Notes:\n",
       "[1] Standard Errors assume that the covariance matrix of the errors is correctly specified.\n",
       "\"\"\""
      ]
     },
     "execution_count": 65,
     "metadata": {},
     "output_type": "execute_result"
    }
   ],
   "source": [
    "linear_model.summary()"
   ]
  },
  {
   "cell_type": "code",
   "execution_count": null,
   "id": "210252dc",
   "metadata": {},
   "outputs": [],
   "source": []
  }
 ],
 "metadata": {
  "kernelspec": {
   "display_name": "Python 3",
   "language": "python",
   "name": "python3"
  },
  "language_info": {
   "codemirror_mode": {
    "name": "ipython",
    "version": 3
   },
   "file_extension": ".py",
   "mimetype": "text/x-python",
   "name": "python",
   "nbconvert_exporter": "python",
   "pygments_lexer": "ipython3",
   "version": "3.8.8"
  },
  "toc": {
   "base_numbering": 1,
   "nav_menu": {},
   "number_sections": true,
   "sideBar": true,
   "skip_h1_title": false,
   "title_cell": "Table of Contents",
   "title_sidebar": "Contents",
   "toc_cell": false,
   "toc_position": {},
   "toc_section_display": true,
   "toc_window_display": false
  },
  "varInspector": {
   "cols": {
    "lenName": 16,
    "lenType": 16,
    "lenVar": 40
   },
   "kernels_config": {
    "python": {
     "delete_cmd_postfix": "",
     "delete_cmd_prefix": "del ",
     "library": "var_list.py",
     "varRefreshCmd": "print(var_dic_list())"
    },
    "r": {
     "delete_cmd_postfix": ") ",
     "delete_cmd_prefix": "rm(",
     "library": "var_list.r",
     "varRefreshCmd": "cat(var_dic_list()) "
    }
   },
   "types_to_exclude": [
    "module",
    "function",
    "builtin_function_or_method",
    "instance",
    "_Feature"
   ],
   "window_display": false
  }
 },
 "nbformat": 4,
 "nbformat_minor": 5
}
