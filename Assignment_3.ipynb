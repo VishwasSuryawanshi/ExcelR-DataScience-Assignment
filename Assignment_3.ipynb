{
 "cells": [
  {
   "cell_type": "code",
   "execution_count": 2,
   "id": "04a38341",
   "metadata": {
    "ExecuteTime": {
     "end_time": "2021-10-18T07:07:34.918783Z",
     "start_time": "2021-10-18T07:07:34.903937Z"
    }
   },
   "outputs": [],
   "source": [
    "import pandas as pd\n",
    "import numpy as np\n",
    "from scipy import stats\n",
    "import matplotlib as plt\n",
    "import seaborn as sn"
   ]
  },
  {
   "cell_type": "markdown",
   "id": "fcff830d",
   "metadata": {},
   "source": [
    "## Q1) A F&B manager wants to determine whether there is any significant difference in the diameter of the cutlet between two units. A randomly selected sample of cutlets was collected from both units and measured? Analyze the data and draw inferences at 5% significance level. Please state the assumptions and tests that you carried out to check validity of the assumptions.\n"
   ]
  },
  {
   "cell_type": "code",
   "execution_count": 3,
   "id": "f598ecf0",
   "metadata": {
    "ExecuteTime": {
     "end_time": "2021-10-18T07:09:25.127482Z",
     "start_time": "2021-10-18T07:09:25.109533Z"
    }
   },
   "outputs": [],
   "source": [
    "data = pd.read_csv(\"C:\\\\Users\\\\Lenovo\\\\Desktop\\\\ExcelR\\\\Data Science Assignments\\\\3_Hypothesis Testing\\\\Cutlets.csv\")"
   ]
  },
  {
   "cell_type": "code",
   "execution_count": 4,
   "id": "deb36f62",
   "metadata": {
    "ExecuteTime": {
     "end_time": "2021-10-18T07:09:36.661246Z",
     "start_time": "2021-10-18T07:09:36.569328Z"
    }
   },
   "outputs": [
    {
     "data": {
      "text/html": [
       "<div>\n",
       "<style scoped>\n",
       "    .dataframe tbody tr th:only-of-type {\n",
       "        vertical-align: middle;\n",
       "    }\n",
       "\n",
       "    .dataframe tbody tr th {\n",
       "        vertical-align: top;\n",
       "    }\n",
       "\n",
       "    .dataframe thead th {\n",
       "        text-align: right;\n",
       "    }\n",
       "</style>\n",
       "<table border=\"1\" class=\"dataframe\">\n",
       "  <thead>\n",
       "    <tr style=\"text-align: right;\">\n",
       "      <th></th>\n",
       "      <th>Unit A</th>\n",
       "      <th>Unit B</th>\n",
       "    </tr>\n",
       "  </thead>\n",
       "  <tbody>\n",
       "    <tr>\n",
       "      <th>0</th>\n",
       "      <td>6.8090</td>\n",
       "      <td>6.7703</td>\n",
       "    </tr>\n",
       "    <tr>\n",
       "      <th>1</th>\n",
       "      <td>6.4376</td>\n",
       "      <td>7.5093</td>\n",
       "    </tr>\n",
       "    <tr>\n",
       "      <th>2</th>\n",
       "      <td>6.9157</td>\n",
       "      <td>6.7300</td>\n",
       "    </tr>\n",
       "    <tr>\n",
       "      <th>3</th>\n",
       "      <td>7.3012</td>\n",
       "      <td>6.7878</td>\n",
       "    </tr>\n",
       "    <tr>\n",
       "      <th>4</th>\n",
       "      <td>7.4488</td>\n",
       "      <td>7.1522</td>\n",
       "    </tr>\n",
       "  </tbody>\n",
       "</table>\n",
       "</div>"
      ],
      "text/plain": [
       "   Unit A  Unit B\n",
       "0  6.8090  6.7703\n",
       "1  6.4376  7.5093\n",
       "2  6.9157  6.7300\n",
       "3  7.3012  6.7878\n",
       "4  7.4488  7.1522"
      ]
     },
     "execution_count": 4,
     "metadata": {},
     "output_type": "execute_result"
    }
   ],
   "source": [
    "data.head()"
   ]
  },
  {
   "cell_type": "code",
   "execution_count": 5,
   "id": "9ea10d70",
   "metadata": {
    "ExecuteTime": {
     "end_time": "2021-10-18T07:10:34.805401Z",
     "start_time": "2021-10-18T07:10:34.798462Z"
    }
   },
   "outputs": [],
   "source": [
    "Unit_A = data.iloc[:,0]\n",
    "Unit_B = data.iloc[:,1]"
   ]
  },
  {
   "cell_type": "code",
   "execution_count": 11,
   "id": "b52152de",
   "metadata": {
    "ExecuteTime": {
     "end_time": "2021-10-18T07:13:37.063794Z",
     "start_time": "2021-10-18T07:13:37.048836Z"
    }
   },
   "outputs": [
    {
     "name": "stdout",
     "output_type": "stream",
     "text": [
      "0.7228688704678063 0.4722394724599501\n"
     ]
    }
   ],
   "source": [
    "stat_value,p_value = stats.ttest_ind(Unit_A,Unit_B)\n",
    "print(stat_value,p_value)"
   ]
  },
  {
   "cell_type": "markdown",
   "id": "a94cacff",
   "metadata": {},
   "source": [
    "#### Ans) As p-value(0.4722) is greater than alpha significance(0.05) we can conclude that - \"We fail to reject null hypothesis i.e. their is no difference in the diameters of the cutlets.\""
   ]
  },
  {
   "cell_type": "markdown",
   "id": "f468c4c0",
   "metadata": {},
   "source": [
    "## Q2)  A hospital wants to determine whether there is any difference in the average Turn Around Time (TAT) of reports of the laboratories on their preferred list. They collected a random sample and recorded TAT for reports of 4 laboratories. TAT is defined as sample collected to report dispatch.Analyze the data and determine whether there is any difference in average TAT among the different laboratories at 5% significance level.\n"
   ]
  },
  {
   "cell_type": "code",
   "execution_count": 12,
   "id": "8096256c",
   "metadata": {
    "ExecuteTime": {
     "end_time": "2021-10-18T07:51:43.466145Z",
     "start_time": "2021-10-18T07:51:43.446406Z"
    }
   },
   "outputs": [],
   "source": [
    "data = pd.read_csv(\"C:\\\\Users\\\\Lenovo\\\\Desktop\\\\ExcelR\\\\Data Science Assignments\\\\3_Hypothesis Testing\\\\LabTAT.csv\")"
   ]
  },
  {
   "cell_type": "code",
   "execution_count": 13,
   "id": "606cdc4f",
   "metadata": {
    "ExecuteTime": {
     "end_time": "2021-10-18T07:51:58.250708Z",
     "start_time": "2021-10-18T07:51:58.220088Z"
    }
   },
   "outputs": [
    {
     "data": {
      "text/html": [
       "<div>\n",
       "<style scoped>\n",
       "    .dataframe tbody tr th:only-of-type {\n",
       "        vertical-align: middle;\n",
       "    }\n",
       "\n",
       "    .dataframe tbody tr th {\n",
       "        vertical-align: top;\n",
       "    }\n",
       "\n",
       "    .dataframe thead th {\n",
       "        text-align: right;\n",
       "    }\n",
       "</style>\n",
       "<table border=\"1\" class=\"dataframe\">\n",
       "  <thead>\n",
       "    <tr style=\"text-align: right;\">\n",
       "      <th></th>\n",
       "      <th>Laboratory 1</th>\n",
       "      <th>Laboratory 2</th>\n",
       "      <th>Laboratory 3</th>\n",
       "      <th>Laboratory 4</th>\n",
       "    </tr>\n",
       "  </thead>\n",
       "  <tbody>\n",
       "    <tr>\n",
       "      <th>0</th>\n",
       "      <td>185.35</td>\n",
       "      <td>165.53</td>\n",
       "      <td>176.70</td>\n",
       "      <td>166.13</td>\n",
       "    </tr>\n",
       "    <tr>\n",
       "      <th>1</th>\n",
       "      <td>170.49</td>\n",
       "      <td>185.91</td>\n",
       "      <td>198.45</td>\n",
       "      <td>160.79</td>\n",
       "    </tr>\n",
       "    <tr>\n",
       "      <th>2</th>\n",
       "      <td>192.77</td>\n",
       "      <td>194.92</td>\n",
       "      <td>201.23</td>\n",
       "      <td>185.18</td>\n",
       "    </tr>\n",
       "    <tr>\n",
       "      <th>3</th>\n",
       "      <td>177.33</td>\n",
       "      <td>183.00</td>\n",
       "      <td>199.61</td>\n",
       "      <td>176.42</td>\n",
       "    </tr>\n",
       "    <tr>\n",
       "      <th>4</th>\n",
       "      <td>193.41</td>\n",
       "      <td>169.57</td>\n",
       "      <td>204.63</td>\n",
       "      <td>152.60</td>\n",
       "    </tr>\n",
       "  </tbody>\n",
       "</table>\n",
       "</div>"
      ],
      "text/plain": [
       "   Laboratory 1  Laboratory 2  Laboratory 3  Laboratory 4\n",
       "0        185.35        165.53        176.70        166.13\n",
       "1        170.49        185.91        198.45        160.79\n",
       "2        192.77        194.92        201.23        185.18\n",
       "3        177.33        183.00        199.61        176.42\n",
       "4        193.41        169.57        204.63        152.60"
      ]
     },
     "execution_count": 13,
     "metadata": {},
     "output_type": "execute_result"
    }
   ],
   "source": [
    "data.head()"
   ]
  },
  {
   "cell_type": "code",
   "execution_count": 14,
   "id": "8f62ad98",
   "metadata": {
    "ExecuteTime": {
     "end_time": "2021-10-18T07:53:07.323344Z",
     "start_time": "2021-10-18T07:53:07.307751Z"
    }
   },
   "outputs": [],
   "source": [
    "lab1 = data.iloc[:,0]\n",
    "lab2 = data.iloc[:,1]\n",
    "lab3 = data.iloc[:,2]\n",
    "lab4 = data.iloc[:,3]"
   ]
  },
  {
   "cell_type": "code",
   "execution_count": 15,
   "id": "67046cfd",
   "metadata": {
    "ExecuteTime": {
     "end_time": "2021-10-18T07:54:23.646454Z",
     "start_time": "2021-10-18T07:54:23.580604Z"
    }
   },
   "outputs": [
    {
     "name": "stdout",
     "output_type": "stream",
     "text": [
      "118.70421654401437 2.1156708949992414e-57\n"
     ]
    }
   ],
   "source": [
    "stat_value,p_value = stats.f_oneway(lab1,lab2,lab3,lab4)\n",
    "print(stat_value,p_value)"
   ]
  },
  {
   "cell_type": "markdown",
   "id": "20ef134f",
   "metadata": {},
   "source": [
    "#### Ans) As p-value(2.1156) is greater than alpha significance(0.05) we can conclude that - \"We accept alternate hypothesis i.e. their is no significant inter-relation between all the laboratories\""
   ]
  },
  {
   "cell_type": "markdown",
   "id": "f67f1aa9",
   "metadata": {},
   "source": [
    "## Q3) Sales of products in four different regions is tabulated for males and females. Find if male-female buyer rations are similar across regions."
   ]
  },
  {
   "cell_type": "code",
   "execution_count": 16,
   "id": "45c815f3",
   "metadata": {
    "ExecuteTime": {
     "end_time": "2021-10-18T08:06:06.974967Z",
     "start_time": "2021-10-18T08:06:06.961562Z"
    }
   },
   "outputs": [],
   "source": [
    "data = pd.read_csv(\"C:\\\\Users\\\\Lenovo\\\\Desktop\\\\ExcelR\\\\Data Science Assignments\\\\3_Hypothesis Testing\\\\BuyerRatio.csv\")"
   ]
  },
  {
   "cell_type": "code",
   "execution_count": 17,
   "id": "f22d051f",
   "metadata": {
    "ExecuteTime": {
     "end_time": "2021-10-18T08:06:12.707169Z",
     "start_time": "2021-10-18T08:06:12.686569Z"
    }
   },
   "outputs": [
    {
     "data": {
      "text/html": [
       "<div>\n",
       "<style scoped>\n",
       "    .dataframe tbody tr th:only-of-type {\n",
       "        vertical-align: middle;\n",
       "    }\n",
       "\n",
       "    .dataframe tbody tr th {\n",
       "        vertical-align: top;\n",
       "    }\n",
       "\n",
       "    .dataframe thead th {\n",
       "        text-align: right;\n",
       "    }\n",
       "</style>\n",
       "<table border=\"1\" class=\"dataframe\">\n",
       "  <thead>\n",
       "    <tr style=\"text-align: right;\">\n",
       "      <th></th>\n",
       "      <th>Observed Values</th>\n",
       "      <th>East</th>\n",
       "      <th>West</th>\n",
       "      <th>North</th>\n",
       "      <th>South</th>\n",
       "    </tr>\n",
       "  </thead>\n",
       "  <tbody>\n",
       "    <tr>\n",
       "      <th>0</th>\n",
       "      <td>Males</td>\n",
       "      <td>50</td>\n",
       "      <td>142</td>\n",
       "      <td>131</td>\n",
       "      <td>70</td>\n",
       "    </tr>\n",
       "    <tr>\n",
       "      <th>1</th>\n",
       "      <td>Females</td>\n",
       "      <td>435</td>\n",
       "      <td>1523</td>\n",
       "      <td>1356</td>\n",
       "      <td>750</td>\n",
       "    </tr>\n",
       "  </tbody>\n",
       "</table>\n",
       "</div>"
      ],
      "text/plain": [
       "  Observed Values  East  West  North  South\n",
       "0           Males    50   142    131     70\n",
       "1         Females   435  1523   1356    750"
      ]
     },
     "execution_count": 17,
     "metadata": {},
     "output_type": "execute_result"
    }
   ],
   "source": [
    "data.head()"
   ]
  },
  {
   "cell_type": "code",
   "execution_count": 18,
   "id": "b522f2b6",
   "metadata": {
    "ExecuteTime": {
     "end_time": "2021-10-18T08:17:21.318915Z",
     "start_time": "2021-10-18T08:17:21.301891Z"
    }
   },
   "outputs": [],
   "source": [
    "Males = data.iloc[0,1:]\n",
    "Females = data.iloc[1,1:]"
   ]
  },
  {
   "cell_type": "code",
   "execution_count": 20,
   "id": "e379fb7b",
   "metadata": {
    "ExecuteTime": {
     "end_time": "2021-10-18T08:18:23.946185Z",
     "start_time": "2021-10-18T08:18:23.929298Z"
    }
   },
   "outputs": [
    {
     "name": "stdout",
     "output_type": "stream",
     "text": [
      "[East      50\n",
      "West     142\n",
      "North    131\n",
      "South     70\n",
      "Name: 0, dtype: object, East      435\n",
      "West     1523\n",
      "North    1356\n",
      "South     750\n",
      "Name: 1, dtype: object]\n"
     ]
    }
   ],
   "source": [
    "data1 = [Males,Females]\n",
    "print(data1)"
   ]
  },
  {
   "cell_type": "code",
   "execution_count": 22,
   "id": "df603fe9",
   "metadata": {
    "ExecuteTime": {
     "end_time": "2021-10-18T08:19:19.537958Z",
     "start_time": "2021-10-18T08:19:19.522830Z"
    }
   },
   "outputs": [
    {
     "name": "stdout",
     "output_type": "stream",
     "text": [
      "(1.595945538661058, 0.6603094907091882, 3, array([[  42.76531299,  146.81287862,  131.11756787,   72.30424052],\n",
      "       [ 442.23468701, 1518.18712138, 1355.88243213,  747.69575948]]))\n"
     ]
    }
   ],
   "source": [
    "result = stats.chi2_contingency(data1)\n",
    "print(result)"
   ]
  },
  {
   "cell_type": "code",
   "execution_count": 35,
   "id": "257364f8",
   "metadata": {
    "ExecuteTime": {
     "end_time": "2021-10-18T08:26:36.563693Z",
     "start_time": "2021-10-18T08:26:36.552557Z"
    }
   },
   "outputs": [
    {
     "data": {
      "text/plain": [
       "(1.595945538661058, 0.6603094907091882, 3)"
      ]
     },
     "execution_count": 35,
     "metadata": {},
     "output_type": "execute_result"
    }
   ],
   "source": [
    "stat_value = result[0]\n",
    "pi_value = result[1]\n",
    "df = result[2]\n",
    "stat_value, pi_value, df"
   ]
  },
  {
   "cell_type": "code",
   "execution_count": 36,
   "id": "f03e2c88",
   "metadata": {
    "ExecuteTime": {
     "end_time": "2021-10-18T08:27:11.922409Z",
     "start_time": "2021-10-18T08:27:11.912717Z"
    }
   },
   "outputs": [
    {
     "data": {
      "text/plain": [
       "array([[  42.76531299,  146.81287862,  131.11756787,   72.30424052],\n",
       "       [ 442.23468701, 1518.18712138, 1355.88243213,  747.69575948]])"
      ]
     },
     "execution_count": 36,
     "metadata": {},
     "output_type": "execute_result"
    }
   ],
   "source": [
    "expected_value = result[3]\n",
    "expected_value"
   ]
  },
  {
   "cell_type": "markdown",
   "id": "345c348c",
   "metadata": {},
   "source": [
    "#### Ans) As p-value(0.6603) is greater than alpha significance(0.05) we can conclude that - \"We fail to reject null hypothesis i.e. All proportions are equal.\""
   ]
  },
  {
   "cell_type": "markdown",
   "id": "93f4d94e",
   "metadata": {},
   "source": [
    "## Q4)     TeleCall uses 4 centers around the globe to process customer order forms. They audit a certain %  of the customer order forms. Any error in order form renders it defective and has to be reworked before processing.  The manager wants to check whether the defective %  varies by centre. Please analyze the data at 5% significance level and help the manager draw appropriate inferences\n"
   ]
  },
  {
   "cell_type": "code",
   "execution_count": 42,
   "id": "f5a7c793",
   "metadata": {
    "ExecuteTime": {
     "end_time": "2021-10-18T08:39:13.708219Z",
     "start_time": "2021-10-18T08:39:13.667959Z"
    }
   },
   "outputs": [
    {
     "data": {
      "text/html": [
       "<div>\n",
       "<style scoped>\n",
       "    .dataframe tbody tr th:only-of-type {\n",
       "        vertical-align: middle;\n",
       "    }\n",
       "\n",
       "    .dataframe tbody tr th {\n",
       "        vertical-align: top;\n",
       "    }\n",
       "\n",
       "    .dataframe thead th {\n",
       "        text-align: right;\n",
       "    }\n",
       "</style>\n",
       "<table border=\"1\" class=\"dataframe\">\n",
       "  <thead>\n",
       "    <tr style=\"text-align: right;\">\n",
       "      <th></th>\n",
       "      <th>Phillippines</th>\n",
       "      <th>Indonesia</th>\n",
       "      <th>Malta</th>\n",
       "      <th>India</th>\n",
       "    </tr>\n",
       "  </thead>\n",
       "  <tbody>\n",
       "    <tr>\n",
       "      <th>0</th>\n",
       "      <td>Error Free</td>\n",
       "      <td>Error Free</td>\n",
       "      <td>Defective</td>\n",
       "      <td>Error Free</td>\n",
       "    </tr>\n",
       "    <tr>\n",
       "      <th>1</th>\n",
       "      <td>Error Free</td>\n",
       "      <td>Error Free</td>\n",
       "      <td>Error Free</td>\n",
       "      <td>Defective</td>\n",
       "    </tr>\n",
       "    <tr>\n",
       "      <th>2</th>\n",
       "      <td>Error Free</td>\n",
       "      <td>Defective</td>\n",
       "      <td>Defective</td>\n",
       "      <td>Error Free</td>\n",
       "    </tr>\n",
       "    <tr>\n",
       "      <th>3</th>\n",
       "      <td>Error Free</td>\n",
       "      <td>Error Free</td>\n",
       "      <td>Error Free</td>\n",
       "      <td>Error Free</td>\n",
       "    </tr>\n",
       "    <tr>\n",
       "      <th>4</th>\n",
       "      <td>Error Free</td>\n",
       "      <td>Error Free</td>\n",
       "      <td>Defective</td>\n",
       "      <td>Error Free</td>\n",
       "    </tr>\n",
       "  </tbody>\n",
       "</table>\n",
       "</div>"
      ],
      "text/plain": [
       "  Phillippines   Indonesia       Malta       India\n",
       "0   Error Free  Error Free   Defective  Error Free\n",
       "1   Error Free  Error Free  Error Free   Defective\n",
       "2   Error Free   Defective   Defective  Error Free\n",
       "3   Error Free  Error Free  Error Free  Error Free\n",
       "4   Error Free  Error Free   Defective  Error Free"
      ]
     },
     "execution_count": 42,
     "metadata": {},
     "output_type": "execute_result"
    }
   ],
   "source": [
    "data = pd.read_csv(\"C:\\\\Users\\\\Lenovo\\\\Desktop\\\\ExcelR\\\\Data Science Assignments\\\\3_Hypothesis Testing\\\\Costomer+OrderForm.csv\")\n",
    "data.head()"
   ]
  },
  {
   "cell_type": "code",
   "execution_count": 44,
   "id": "e3f98fae",
   "metadata": {
    "ExecuteTime": {
     "end_time": "2021-10-18T08:41:09.990450Z",
     "start_time": "2021-10-18T08:41:09.971251Z"
    }
   },
   "outputs": [],
   "source": [
    "phillippines = data.Phillippines.value_counts()\n",
    "indonesia = data.Indonesia.value_counts()\n",
    "malta = data.Malta.value_counts()\n",
    "india = data.India.value_counts()"
   ]
  },
  {
   "cell_type": "code",
   "execution_count": 48,
   "id": "d1ed27f9",
   "metadata": {
    "ExecuteTime": {
     "end_time": "2021-10-18T08:42:10.506885Z",
     "start_time": "2021-10-18T08:42:10.494359Z"
    }
   },
   "outputs": [
    {
     "data": {
      "text/plain": [
       "array([280,  20], dtype=int64)"
      ]
     },
     "execution_count": 48,
     "metadata": {},
     "output_type": "execute_result"
    }
   ],
   "source": [
    "phillippines.values\n",
    "indonesia.values\n",
    "malta.values\n",
    "india.values"
   ]
  },
  {
   "cell_type": "code",
   "execution_count": 50,
   "id": "95a435e2",
   "metadata": {
    "ExecuteTime": {
     "end_time": "2021-10-18T08:44:27.011790Z",
     "start_time": "2021-10-18T08:44:26.999810Z"
    }
   },
   "outputs": [
    {
     "data": {
      "text/plain": [
       "[[271, 267, 269, 280], [29, 33, 31, 20]]"
      ]
     },
     "execution_count": 50,
     "metadata": {},
     "output_type": "execute_result"
    }
   ],
   "source": [
    "df_1 = [phillippines[0],indonesia[0],malta[0],india[0]]\n",
    "df_2 = [phillippines[1],indonesia[1],malta[1],india[1]]\n",
    "df = [df_1,df_2]\n",
    "df"
   ]
  },
  {
   "cell_type": "code",
   "execution_count": 52,
   "id": "e92a33fe",
   "metadata": {
    "ExecuteTime": {
     "end_time": "2021-10-18T08:44:58.856748Z",
     "start_time": "2021-10-18T08:44:58.841655Z"
    }
   },
   "outputs": [
    {
     "data": {
      "text/plain": [
       "(3.858960685820355,\n",
       " 0.2771020991233135,\n",
       " 3,\n",
       " array([[271.75, 271.75, 271.75, 271.75],\n",
       "        [ 28.25,  28.25,  28.25,  28.25]]))"
      ]
     },
     "execution_count": 52,
     "metadata": {},
     "output_type": "execute_result"
    }
   ],
   "source": [
    "result = stats.chi2_contingency(df)\n",
    "result"
   ]
  },
  {
   "cell_type": "code",
   "execution_count": 53,
   "id": "215dee5f",
   "metadata": {
    "ExecuteTime": {
     "end_time": "2021-10-18T08:45:14.077054Z",
     "start_time": "2021-10-18T08:45:14.057781Z"
    }
   },
   "outputs": [
    {
     "data": {
      "text/plain": [
       "(3.858960685820355, 0.2771020991233135, 3)"
      ]
     },
     "execution_count": 53,
     "metadata": {},
     "output_type": "execute_result"
    }
   ],
   "source": [
    "stat_value = result[0]\n",
    "pi_value = result[1]\n",
    "df = result[2]\n",
    "stat_value, pi_value, df"
   ]
  },
  {
   "cell_type": "markdown",
   "id": "e45c6881",
   "metadata": {},
   "source": [
    "#### Ans) As p-value(0.2771) is greater than alpha significance(0.05) we can conclude that - \"We fail to reject null hypothesis i.e. All proportions are equal.\""
   ]
  }
 ],
 "metadata": {
  "kernelspec": {
   "display_name": "Python 3",
   "language": "python",
   "name": "python3"
  },
  "language_info": {
   "codemirror_mode": {
    "name": "ipython",
    "version": 3
   },
   "file_extension": ".py",
   "mimetype": "text/x-python",
   "name": "python",
   "nbconvert_exporter": "python",
   "pygments_lexer": "ipython3",
   "version": "3.8.8"
  },
  "toc": {
   "base_numbering": 1,
   "nav_menu": {},
   "number_sections": true,
   "sideBar": true,
   "skip_h1_title": false,
   "title_cell": "Table of Contents",
   "title_sidebar": "Contents",
   "toc_cell": false,
   "toc_position": {},
   "toc_section_display": true,
   "toc_window_display": false
  },
  "varInspector": {
   "cols": {
    "lenName": 16,
    "lenType": 16,
    "lenVar": 40
   },
   "kernels_config": {
    "python": {
     "delete_cmd_postfix": "",
     "delete_cmd_prefix": "del ",
     "library": "var_list.py",
     "varRefreshCmd": "print(var_dic_list())"
    },
    "r": {
     "delete_cmd_postfix": ") ",
     "delete_cmd_prefix": "rm(",
     "library": "var_list.r",
     "varRefreshCmd": "cat(var_dic_list()) "
    }
   },
   "types_to_exclude": [
    "module",
    "function",
    "builtin_function_or_method",
    "instance",
    "_Feature"
   ],
   "window_display": false
  }
 },
 "nbformat": 4,
 "nbformat_minor": 5
}
